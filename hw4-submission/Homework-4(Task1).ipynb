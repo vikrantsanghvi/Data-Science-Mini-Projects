{
 "cells": [
  {
   "cell_type": "markdown",
   "metadata": {},
   "source": [
    "(In order to load the stylesheet of this notebook, execute the last code cell in this notebook)"
   ]
  },
  {
   "cell_type": "markdown",
   "metadata": {},
   "source": [
    "# Recommender System for Amazon Electronics"
   ]
  },
  {
   "cell_type": "markdown",
   "metadata": {},
   "source": [
    "In this assignment, we will be working with the [Amazon dataset](http://cs-people.bu.edu/kzhao/teaching/amazon_reviews_Electronics.tar.gz). You will build a recommender system to make predictions related to reviews of Electronics products on Amazon.\n",
    "\n",
    "Your grades will be determined by your performance on the predictive tasks as well as a brief written report about the approaches you took.\n",
    "\n",
    "This assignment should be completed **individually**."
   ]
  },
  {
   "cell_type": "markdown",
   "metadata": {},
   "source": [
    "## Files"
   ]
  },
  {
   "cell_type": "markdown",
   "metadata": {},
   "source": [
    "**train.json** 1,000,000 reviews to be used for training. It is not necessary to use all reviews for training if doing so proves too computationally intensive. The fields in this file are:\n",
    "\n",
    "* **reviewerID** The ID of the reviewer. This is a hashed user identifier from Amazon.\n",
    "\n",
    "* **asin** The ID of the item. This is a hashed product identifier from Amazon.\n",
    "\n",
    "* **overall** The rating of reviewer gave the item.\n",
    "\n",
    "* **helpful** The helpfulness votes for the review. This has 2 subfields, 'nHelpful' and 'outOf'. The latter is the total number of votes this review received. The former is the number of those that considered the review to be helpful.\n",
    "\n",
    "* **reviewText** The text of the review.\n",
    "\n",
    "* **summary** The summary of the review.\n",
    "\n",
    "* **unixReviewTime** The time of the review in seconds since 1970."
   ]
  },
  {
   "cell_type": "markdown",
   "metadata": {},
   "source": [
    "**meta.json** Contains metadata of the items:\n",
    "\n",
    "* **asin** The ID of the item.\n",
    "\n",
    "* **categories** The category labels of the item being reviewed.\n",
    "\n",
    "* **price** The price of the item.\n",
    "\n",
    "* **brand** The brand of the item."
   ]
  },
  {
   "cell_type": "markdown",
   "metadata": {},
   "source": [
    "**pairs_Rating.txt** The pairs (reviewerID and asin) on which you are to predict ratings.\n",
    "\n",
    "**pairs_Purchase.txt** The pairs on which you are to predict whether a user purchased an item or not.\n",
    "\n",
    "**pairs_Helpful.txt** The pairs on which you are to predict helpfulness votes. A third column in this file is the total number of votes from which you should predict how many were helpful."
   ]
  },
  {
   "cell_type": "markdown",
   "metadata": {},
   "source": [
    "**helpful.json** The review data associated with the helpfulness prediction test set. The 'nHelpful' field has been removed from this data since that is the value you need to predict above. This data will only be of use for the helpfulness prediction task."
   ]
  },
  {
   "cell_type": "markdown",
   "metadata": {},
   "source": [
    "**baseline.py** A simple baseline for each task."
   ]
  },
  {
   "cell_type": "markdown",
   "metadata": {
    "collapsed": true
   },
   "source": [
    "## Tasks"
   ]
  },
  {
   "cell_type": "markdown",
   "metadata": {},
   "source": [
    "**Rating prediction** Predict people's star ratings as accurately as possible for those (reviewerID, asin) pairs in 'pairs_Rating.txt'. Accuracy will be measured in terms of the [root mean-squared error (RMSE)](http://www.kaggle.com/wiki/RootMeanSquaredError).\n",
    "\n",
    "**Purchase prediction** Predict given a (reviewerID, asin) pair from 'pairs_Purchase.txt' whether the user purchased the item (really, whether it was one of the items they reviewed). Accuracy will be measured in terms of the [categorization accuracy](http://www.kaggle.com/wiki/HammingLoss) (1 minus the Hamming loss).\n",
    "\n",
    "**Helpfulness prediction** Predic whether a user's review of an item will be considered helpful. The file 'pairs_Helpful.txt' contains (reviewerID, asin) pairs with a third column containing the number of votes the user's review of the item received. You must predict how many of them were helpful. Accuracy will be measured in terms of the total [absolute error](http://www.kaggle.com/wiki/AbsoluteError), i.e. you are penalized one according to the difference |nHelpful - prediction|, where 'nHelpful' is the number of helpful votes the review actually received, and 'prediction' is your prediction of this quantity.\n",
    "\n",
    "We set up competitions on Kaggle to keep track of your results compared to those of other members of the class. The leaderboard will show your results on half of the test data, but your ultimate score will depend on your predictions across the whole dataset.\n",
    "* Kaggle competition: [rating prediction](https://inclass.kaggle.com/c/cs591-hw3-rating-prediction3) click here to [join](https://kaggle.com/join/datascience16rating)\n",
    "* Kaggle competition: [purchase prediction](https://inclass.kaggle.com/c/cs591-hw3-purchase-prediction) click here to [join](https://kaggle.com/join/datascience16purchase)\n",
    "* Kaggle competition: [helpfulness prediction](https://inclass.kaggle.com/c/cs591-hw3-helpful-prediction) click here to [join](https://kaggle.com/join/datascience16helpful)"
   ]
  },
  {
   "cell_type": "markdown",
   "metadata": {},
   "source": [
    "## Grading and Evaluation"
   ]
  },
  {
   "cell_type": "markdown",
   "metadata": {},
   "source": [
    "You will be graded on the following aspects.\n",
    "\n",
    "* Your written report. This should describe the approaches you took to each of the 3 tasks. To obtain good performance, you should not need to invent new approaches (though you are more than welcome to) but rather you will be graded based on your decision to apply reasonable approaches to each of the given tasks. (**10pts** for each task)\n",
    "\n",
    "* Your ability to obtain a solution which outperforms the baselines on the unseen portion of the test data. Obtaining full marks requires a solution which is substantially better (at least several percent) than baseline performance. (**10pts** for each task)\n",
    "\n",
    "* Your ranking for each of the three tasks compared to other students in the class. (**5pts** for each task)\n",
    "\n",
    "* Obtain a solution which outperforms the baselines on the seen portion of the test data (the leaderboard). \n",
    "(**5pts** for each task)"
   ]
  },
  {
   "cell_type": "markdown",
   "metadata": {},
   "source": [
    "## Baselines"
   ]
  },
  {
   "cell_type": "markdown",
   "metadata": {},
   "source": [
    "Simple baselines have been provided for each of the 3 tasks. These are included in 'baselines.py' among the files above. These 3 baselines operate as follows:\n",
    "\n",
    "**Rating prediction** Returns the global average rating, or the user's average if you have seen them before in the training data.\n",
    "\n",
    "**Purchase prediction** Finds the most popular products that account for 50% of purchases in the training data. Return '1' whenever such a product is seen at test time, '0' otherwise.\n",
    "\n",
    "** Helpfulness prediction** Multiplies the number of votes by the global average helpfulness rate, or the user's rate if we saw this user in the training data.\n",
    "\n",
    "Running 'baseline.py' produces 3 files containing predicted outputs. Your submission files should have the same format."
   ]
  },
  {
   "cell_type": "markdown",
   "metadata": {},
   "source": [
    "## Dataset Citation"
   ]
  },
  {
   "cell_type": "markdown",
   "metadata": {},
   "source": [
    "**Image-based recommendations on styles and substitutes** J. McAuley, C. Targett, J. Shi, A. van den Hengel *SIGIR*, 2015\n",
    "\n",
    "**Inferring networks of substitutable and complementary products** J. McAuley, R. Pandey, J. Leskovec *Knowledge Discovery and Data Mining*, 2015"
   ]
  },
  {
   "cell_type": "markdown",
   "metadata": {},
   "source": [
    "-----------------"
   ]
  },
  {
   "cell_type": "code",
   "execution_count": 32,
   "metadata": {
    "collapsed": true
   },
   "outputs": [],
   "source": [
    "#Baseline code for Rating Prediction\n",
    "from collections import defaultdict\n",
    "\n",
    "def readJson(f):\n",
    "    for l in open(f):\n",
    "        yield eval(l)\n",
    "\n",
    "### Rating baseline: compute averages for each user, or return the global average if we've never seen the user before\n",
    "\n",
    "allRatings = []\n",
    "userRatings = defaultdict(list)\n",
    "for l in readJson('train.json'):\n",
    "    user,item = l['reviewerID'],l['asin']\n",
    "    allRatings.append(l['overall'])\n",
    "    userRatings[user].append(l['overall'])\n",
    "\n",
    "globalAverage = sum(allRatings) / len(allRatings)\n",
    "userAverage = {}\n",
    "for u in userRatings:\n",
    "    userAverage[u] = sum(userRatings[u]) / len(userRatings[u])\n",
    "\n",
    "predictions = open(\"predictions_Rating.txt\", 'w')\n",
    "for l in open(\"pairs_Rating.txt\"):\n",
    "    if l.startswith(\"reviewerID\"):\n",
    "    #header\n",
    "        predictions.write(l)\n",
    "        continue\n",
    "    u,i = l.strip().split('-')\n",
    "    if u in userAverage:\n",
    "        predictions.write(u + '-' + i + ',' + str(userAverage[u]) + '\\n')\n",
    "    else:\n",
    "        predictions.write(u + '-' + i + ',' + str(globalAverage) + '\\n')\n",
    "predictions.close()\n"
   ]
  },
  {
   "cell_type": "code",
   "execution_count": 1,
   "metadata": {
    "collapsed": false
   },
   "outputs": [
    {
     "name": "stdout",
     "output_type": "stream",
     "text": [
      "                                                     asin  overall  \\\n",
      "0       a6ed402934e3c1138111dce09256538afb04c566edf37c...        2   \n",
      "1       8939d791e9dd035aa58da024ace69b20d651cea4adf615...        4   \n",
      "2       8939d791e9dd035aa58da024ace69b20d651cea4adf615...        2   \n",
      "3       8939d791e9dd035aa58da024ace69b20d651cea4adf615...        4   \n",
      "4       8939d791e9dd035aa58da024ace69b20d651cea4adf615...        1   \n",
      "5       6ac521636646aaecf483e148a7240f6214b7e5dc809400...        1   \n",
      "6       5da57c87204216c7df1b6d40979a1067f2d0247291cc2b...        4   \n",
      "7       59249d92675e68e4e635c03267aba9e58fa593fd6452ce...        4   \n",
      "8       59249d92675e68e4e635c03267aba9e58fa593fd6452ce...        5   \n",
      "9       59249d92675e68e4e635c03267aba9e58fa593fd6452ce...        5   \n",
      "10      59249d92675e68e4e635c03267aba9e58fa593fd6452ce...        4   \n",
      "11      20452efd72b6b22b093850a8d263c08e0b472edb3300b3...        3   \n",
      "12      20452efd72b6b22b093850a8d263c08e0b472edb3300b3...        5   \n",
      "13      ae42d701ca34d0d3862c3d0ac8a143625d0534de419ef7...        5   \n",
      "14      ae42d701ca34d0d3862c3d0ac8a143625d0534de419ef7...        5   \n",
      "15      ae42d701ca34d0d3862c3d0ac8a143625d0534de419ef7...        5   \n",
      "16      6116d31a297ceb0f8f69f6f71e924e47136fc70c6f5bf7...        5   \n",
      "17      6116d31a297ceb0f8f69f6f71e924e47136fc70c6f5bf7...        5   \n",
      "18      6116d31a297ceb0f8f69f6f71e924e47136fc70c6f5bf7...        1   \n",
      "19      6116d31a297ceb0f8f69f6f71e924e47136fc70c6f5bf7...        5   \n",
      "20      6116d31a297ceb0f8f69f6f71e924e47136fc70c6f5bf7...        3   \n",
      "21      6116d31a297ceb0f8f69f6f71e924e47136fc70c6f5bf7...        4   \n",
      "22      7750bbecbcca4f08ce0296d30a71065830fb10ada6c64a...        4   \n",
      "23      fddffbdc4069e184e0fa1192d2b7c4f31c7592ecd5239a...        2   \n",
      "24      fddffbdc4069e184e0fa1192d2b7c4f31c7592ecd5239a...        1   \n",
      "25      fddffbdc4069e184e0fa1192d2b7c4f31c7592ecd5239a...        1   \n",
      "26      fddffbdc4069e184e0fa1192d2b7c4f31c7592ecd5239a...        1   \n",
      "27      6097be099f56de2cc7774ba6b6220e92b172cc4b8cfb8e...        4   \n",
      "28      6097be099f56de2cc7774ba6b6220e92b172cc4b8cfb8e...        5   \n",
      "29      3d016c9fa9a2e1d641b952171811d7d6467e97d8857187...        5   \n",
      "...                                                   ...      ...   \n",
      "999970  40bc27c57e5869663d42b5e6f8013567fadd1b2aa2d7e4...        5   \n",
      "999971  40bc27c57e5869663d42b5e6f8013567fadd1b2aa2d7e4...        4   \n",
      "999972  40bc27c57e5869663d42b5e6f8013567fadd1b2aa2d7e4...        4   \n",
      "999973  40bc27c57e5869663d42b5e6f8013567fadd1b2aa2d7e4...        5   \n",
      "999974  40bc27c57e5869663d42b5e6f8013567fadd1b2aa2d7e4...        4   \n",
      "999975  40bc27c57e5869663d42b5e6f8013567fadd1b2aa2d7e4...        4   \n",
      "999976  40bc27c57e5869663d42b5e6f8013567fadd1b2aa2d7e4...        1   \n",
      "999977  75f86fa4d40fed9f9924265c12300cc2c0cda25a0ee3b2...        3   \n",
      "999978  ba6be1d2ee4fcd50219c9f68fe3186e54412f4afab16ee...        3   \n",
      "999979  21a9284092b118899f820647ce99510cec81a2365dd35d...        5   \n",
      "999980  21a9284092b118899f820647ce99510cec81a2365dd35d...        1   \n",
      "999981  d3989b0d93593cc16f51f0b4306842f966fefd5e2da625...        1   \n",
      "999982  8356f7cb925bd58d2d73e897f65aea8a826447ae026c49...        1   \n",
      "999983  f266cd9db679e85abe3dbbbca80f0159ef00a192879c60...        4   \n",
      "999984  f266cd9db679e85abe3dbbbca80f0159ef00a192879c60...        5   \n",
      "999985  f266cd9db679e85abe3dbbbca80f0159ef00a192879c60...        3   \n",
      "999986  f266cd9db679e85abe3dbbbca80f0159ef00a192879c60...        2   \n",
      "999987  f266cd9db679e85abe3dbbbca80f0159ef00a192879c60...        3   \n",
      "999988  f266cd9db679e85abe3dbbbca80f0159ef00a192879c60...        3   \n",
      "999989  f266cd9db679e85abe3dbbbca80f0159ef00a192879c60...        3   \n",
      "999990  55b4c017664cc5a428a3473b7f193a436729269bba9591...        2   \n",
      "999991  55b4c017664cc5a428a3473b7f193a436729269bba9591...        2   \n",
      "999992  55b4c017664cc5a428a3473b7f193a436729269bba9591...        1   \n",
      "999993  55b4c017664cc5a428a3473b7f193a436729269bba9591...        2   \n",
      "999994  55b4c017664cc5a428a3473b7f193a436729269bba9591...        3   \n",
      "999995  55b4c017664cc5a428a3473b7f193a436729269bba9591...        1   \n",
      "999996  55b4c017664cc5a428a3473b7f193a436729269bba9591...        1   \n",
      "999997  55b4c017664cc5a428a3473b7f193a436729269bba9591...        5   \n",
      "999998  55b4c017664cc5a428a3473b7f193a436729269bba9591...        4   \n",
      "999999  55b4c017664cc5a428a3473b7f193a436729269bba9591...        4   \n",
      "\n",
      "                                               reviewerID  userAverage  \\\n",
      "0       bc19970fff3383b2fe947cf9a3a5d7b13b6e57ef2cd53a...     2.857143   \n",
      "1       3689286c8658f54a2ff7aa68ce589c81f6cae4c4d9de76...     4.000000   \n",
      "2       57b508e689013c45fb09bfeac20a937f646217a3b61d59...     2.500000   \n",
      "3       4fc477388bace391b5e78ada47d98dff6aabdfbe3180e8...     3.000000   \n",
      "4       3fc6357307c4294342c03f6004f0f9903411078433366f...     1.000000   \n",
      "5       f2034b86666138b093313fc515d39fc827f332785cad28...     1.000000   \n",
      "6       a3b03c64f1b74b290b02318ddd52d2b3604a5e58f9e9c1...     4.000000   \n",
      "7       be34cf2f59e56af2d1dc2d5eb21c1ea556253a357d5f23...     4.000000   \n",
      "8       ad0032f5266476d57f4f0fb305a91664fbbeae7115ca85...     5.000000   \n",
      "9       0ed1addfb44ede8e5d2ff78f54d075c6bfc095c3fb00f6...     5.000000   \n",
      "10      b0aa2cc0b849dbd01ecf45c08b8fdf750548394272711a...     3.333333   \n",
      "11      77508d6e9465bebd8af4438b1b4a4e1c738e3f5bc3f36c...     3.000000   \n",
      "12      b6387ce6755b0c0603bdee1d800774357ae321b214cd51...     5.000000   \n",
      "13      39ff048583982a8379bd25c990355f253823a1d9208053...     4.333333   \n",
      "14      b51d37ccca6d7d406b594bdee9909fd30a9e6f0b678957...     3.833333   \n",
      "15      ba3fdbaad20c30c150896ac3547364bf237a94933fbc49...     4.000000   \n",
      "16      17189218ce98912f1632847c082d40bb567fe654106eea...     5.000000   \n",
      "17      2fa5d80b4ebed2817fca211f103d0210cbb5ba74032f84...     4.500000   \n",
      "18      5bcefbff3c259143f72502d6cf66f4ab74ff4592269466...     2.500000   \n",
      "19      3537001899c5a212f3c58e9cf3b0c01a3fa7b5fe0c5ec1...     5.000000   \n",
      "20      797279a9c69660b9c52643dfa03a648791ef56b9afe7a3...     3.800000   \n",
      "21      88c907a0045d0f1b93687c7a0d983949e28a1832f705a3...     4.000000   \n",
      "22      062aa442c635834e087e7778210029e372b097eb76df34...     4.000000   \n",
      "23      4ef436fbd60945af4d11f8e13ac97b2e1a7bb92876ddfc...     3.625000   \n",
      "24      507f4622c16c0aefc05ddb4c465e436c26970e9741c9a0...     1.000000   \n",
      "25      b16bf41225d374c878db1784bece476c267571ef6026cc...     2.500000   \n",
      "26      cb2afc5f8d82d98cd984578f583a337ccd4af4f089b819...     2.500000   \n",
      "27      650122c021d6029eb730a679ae868a27a36f29dee58f78...     4.298507   \n",
      "28      bd849530ef0eabeee77335ad917bb69fe5f1fddcec8416...     4.000000   \n",
      "29      a841227359cf1fc71bcbc8081710968e4bf7a49a4fa027...     5.000000   \n",
      "...                                                   ...          ...   \n",
      "999970  3e5970ec565e391a03df952a3b2c4b974dd841c3e64a3a...     4.333333   \n",
      "999971  08a180c85004677c1b79ad9529dc62ebe665d3e304b448...     4.000000   \n",
      "999972  ce8f40cfc06ad01f6947ef34ec7fa37e01990708811b28...     4.750000   \n",
      "999973  ff7c734bf6691a189805ee10bf1df44d42374debc879fa...     3.478261   \n",
      "999974  4390b65b2152efea6824af0336b0ff2913af06459e5cd4...     3.250000   \n",
      "999975  50e3909458f97175fa8c2face18f01c027733bb9c92225...     4.500000   \n",
      "999976  18f21a633ceeee1bbe544b2433b6c45ae013ae8f81fc0a...     1.000000   \n",
      "999977  110a7b90416832afcfb22974b11d92ff2d37b8fca60db0...     3.000000   \n",
      "999978  21874b4130c5b76ec452fd68cee7575489d5a469744d57...     4.500000   \n",
      "999979  756501bcef9432ffce3edac617646ed768613ef8bff2ee...     5.000000   \n",
      "999980  a0b8f43230fc00f0dada76727ee4d2dda80185b7c3e101...     2.750000   \n",
      "999981  b930a9ff0cfdae651199b56bf73868c359012986096ac4...     1.000000   \n",
      "999982  e08d5c3b7f3b19f23cbb855cb9deca036b15a22daff90d...     3.166667   \n",
      "999983  2fee479055afbc04015819bf0dd89d7877556932f56af9...     4.000000   \n",
      "999984  507a85ffbc23eefcf9f4d757653c1bc70863a2be9b17c5...     4.200000   \n",
      "999985  fd18eebc6fa4b76efc13de41016a5878f374c3fb4ea95d...     4.000000   \n",
      "999986  aeadb8b6db47f6362946e4ff350f6089a2607f84996be2...     2.857143   \n",
      "999987  4fcb7bb6bb3b527dda2a88df8409e725b710c34a180c93...     3.888889   \n",
      "999988  b2ef28641aa2dae333ceb3c1b2acb47c2bd7df0218aca5...     3.500000   \n",
      "999989  aa7227a2ed0121e26943574991e55035da1ad251659fce...     4.125000   \n",
      "999990  135a4eae237f9556a78d22f48755f23656b0f95dfdc671...     1.500000   \n",
      "999991  ddbaa45b531bfb6fa98953182556c88408764ac8f6e8b6...     3.500000   \n",
      "999992  0a03750d41978d3ddba11a05fc53da5a25e69067d17fe2...     1.000000   \n",
      "999993  bddbe2aa0a12958add5527280f81a346797ab7c6aa1bba...     4.250000   \n",
      "999994  6e689d417b2b974885f5ced6908e9991af76a0be1186de...     3.500000   \n",
      "999995  1a51b241b7293d5fcc5f798d1a7d9213c07060e59a1276...     3.461538   \n",
      "999996  49700e8228d106121ac17707bc1897f07c6bc4c3529473...     3.666667   \n",
      "999997  287ced726f1241f1af667825d73201fd20c7cbe48a9e89...     5.000000   \n",
      "999998  419f06586e8340033024ec827e1d7492b6a4eafb017369...     3.500000   \n",
      "999999  dae5ef433615caeb5e17e34173b79fdbb5cc031b84f864...     4.800000   \n",
      "\n",
      "        noroverall  \n",
      "0        -0.857143  \n",
      "1         0.000000  \n",
      "2        -0.500000  \n",
      "3         1.000000  \n",
      "4         0.000000  \n",
      "5         0.000000  \n",
      "6         0.000000  \n",
      "7         0.000000  \n",
      "8         0.000000  \n",
      "9         0.000000  \n",
      "10        0.666667  \n",
      "11        0.000000  \n",
      "12        0.000000  \n",
      "13        0.666667  \n",
      "14        1.166667  \n",
      "15        1.000000  \n",
      "16        0.000000  \n",
      "17        0.500000  \n",
      "18       -1.500000  \n",
      "19        0.000000  \n",
      "20       -0.800000  \n",
      "21        0.000000  \n",
      "22        0.000000  \n",
      "23       -1.625000  \n",
      "24        0.000000  \n",
      "25       -1.500000  \n",
      "26       -1.500000  \n",
      "27       -0.298507  \n",
      "28        1.000000  \n",
      "29        0.000000  \n",
      "...            ...  \n",
      "999970    0.666667  \n",
      "999971    0.000000  \n",
      "999972   -0.750000  \n",
      "999973    1.521739  \n",
      "999974    0.750000  \n",
      "999975   -0.500000  \n",
      "999976    0.000000  \n",
      "999977    0.000000  \n",
      "999978   -1.500000  \n",
      "999979    0.000000  \n",
      "999980   -1.750000  \n",
      "999981    0.000000  \n",
      "999982   -2.166667  \n",
      "999983    0.000000  \n",
      "999984    0.800000  \n",
      "999985   -1.000000  \n",
      "999986   -0.857143  \n",
      "999987   -0.888889  \n",
      "999988   -0.500000  \n",
      "999989   -1.125000  \n",
      "999990    0.500000  \n",
      "999991   -1.500000  \n",
      "999992    0.000000  \n",
      "999993   -2.250000  \n",
      "999994   -0.500000  \n",
      "999995   -2.461538  \n",
      "999996   -2.666667  \n",
      "999997    0.000000  \n",
      "999998    0.500000  \n",
      "999999   -0.800000  \n",
      "\n",
      "[1000000 rows x 5 columns]\n"
     ]
    }
   ],
   "source": [
    "#prepare dataframe from train.json with columns as reviewerID, asin, overall, userAverage, noroverall where noroverall is normalised rating.\n",
    "from collections import defaultdict\n",
    "import pandas as pd\n",
    "import numpy as np\n",
    "import nltk\n",
    "import re\n",
    "import os\n",
    "import codecs\n",
    "from sklearn import feature_extraction\n",
    "from sklearn.preprocessing import StandardScaler\n",
    "from sklearn.decomposition import PCA\n",
    "import sklearn.metrics as metrics\n",
    "from sklearn.metrics import pairwise_distances\n",
    "from sklearn.feature_extraction.text import TfidfVectorizer\n",
    "from sklearn.cluster import KMeans\n",
    "\n",
    "\n",
    "def readJson(f):\n",
    "    for l in open(f):\n",
    "        yield eval(l)\n",
    "\n",
    "trainuser=[]\n",
    "trainitem=[]\n",
    "value=[]\n",
    "userRatings=defaultdict(list)\n",
    "\n",
    "\n",
    "for l in readJson('train.json'):\n",
    "    user,item=l['reviewerID'],l['asin']\n",
    "    trainuser.append(l['reviewerID'])\n",
    "    trainitem.append(l['asin'])\n",
    "    value.append(l['overall'])\n",
    "    userRatings[user].append(l['overall'])\n",
    "    \n",
    "userAverage = {}\n",
    "\n",
    "\n",
    "for u in userRatings:\n",
    "    userAverage[u] = sum(userRatings[u]) / len(userRatings[u])\n",
    "traindata={\"reviewerID\":trainuser,\"asin\":trainitem,\"overall\":value}\n",
    "traindf=pd.DataFrame(traindata)\n",
    "# print traindf\n",
    "\n",
    "userAverage={\"userAverage\":userAverage}\n",
    "userAveragedf=pd.DataFrame(userAverage)\n",
    "# print userAveragedf\n",
    "userAveragedf['reviewerID'] = userAveragedf.index\n",
    "# print userAveragedf\n",
    "traindfavg=pd.merge(traindf, userAveragedf, on='reviewerID', how='left')\n",
    "traindfavg['noroverall']=traindfavg['overall']-traindfavg['userAverage']\n",
    "print traindfavg"
   ]
  },
  {
   "cell_type": "code",
   "execution_count": 3,
   "metadata": {
    "collapsed": false
   },
   "outputs": [
    {
     "name": "stdout",
     "output_type": "stream",
     "text": [
      "The total error of the clustering is:  40201.0499969\n",
      "\n",
      "Cluster labels\n",
      "[101 101  62 ...,  18  64  66]\n",
      "\n",
      " Cluster Centroids\n",
      "[[  5.42101086e-20   1.59242194e-18  -6.98226199e-17 ...,   4.00477177e-18\n",
      "    3.79470760e-18   5.96311195e-18]\n",
      " [  1.66526677e-18  -2.27140355e-17  -4.57750157e-16 ...,  -2.79859686e-17\n",
      "    6.17453137e-17  -5.11472375e-17]\n",
      " [  0.00000000e+00   1.70084216e-18  -5.55111512e-17 ...,   4.11319199e-18\n",
      "    6.26126755e-18   8.34835673e-18]\n",
      " ..., \n",
      " [ -1.21972744e-19  -8.40256684e-19   4.98732999e-18 ...,  -6.91178885e-19\n",
      "   -9.48676901e-19  -4.33680869e-19]\n",
      " [  1.86347248e-20   2.10064171e-19   4.33680869e-18 ...,  -4.20128342e-19\n",
      "   -6.23416249e-19  -3.79470760e-19]\n",
      " [ -1.11808349e-19  -5.28548559e-19   4.98732999e-18 ...,  -6.84402621e-19\n",
      "   -9.48676901e-19  -4.33680869e-19]]\n"
     ]
    }
   ],
   "source": [
    "# Approach : to plot clusters of items depending on category value and get cluster average rating .Use this cluster average rating for user-item pair for predicting rating value.\n",
    "from collections import defaultdict\n",
    "import pandas as pd\n",
    "import numpy as np\n",
    "import nltk\n",
    "import re\n",
    "import os\n",
    "import codecs\n",
    "from sklearn import feature_extraction\n",
    "from sklearn.preprocessing import StandardScaler\n",
    "from sklearn.decomposition import PCA\n",
    "import sklearn.metrics as metrics\n",
    "from sklearn.metrics import pairwise_distances\n",
    "from sklearn.feature_extraction.text import TfidfVectorizer\n",
    "from sklearn.cluster import KMeans\n",
    "import matplotlib.pyplot as plt\n",
    "%matplotlib inline\n",
    "\n",
    "def readJson(f):\n",
    "    for l in open(f):\n",
    "        yield eval(l)\n",
    "\n",
    "\n",
    "allitems=[]\n",
    "category=[]\n",
    "allRatings=[]\n",
    "\n",
    "\n",
    "itemRatings=defaultdict(list)\n",
    "\n",
    "for l in readJson('train.json'):\n",
    "    item=l['asin']\n",
    "    allRatings.append(l['overall'])\n",
    "    itemRatings[item].append(l['overall'])\n",
    "    \n",
    "globalAverage = sum(allRatings) / len(allRatings)\n",
    "\n",
    "itemAverage = {}\n",
    "\n",
    "for u in itemRatings:\n",
    "    itemAverage[u] = sum(itemRatings[u]) / len(itemRatings[u])\n",
    "\n",
    "    \n",
    "for m in readJson('meta.json'):\n",
    "    allitems.append(m['asin'])\n",
    "    category.append(m['categories'])\n",
    "\n",
    "category = map(lambda s: s.replace('[[',''), category)\n",
    "category = map(lambda s: s.replace(']]',''), category)\n",
    "category = map(lambda s: s.replace(\",\",\"\"), category)\n",
    "category = map(lambda s: s.replace(\"'\",\"\"), category)\n",
    "category = map(lambda s: s.replace(\"Electronics\",\"\"), category)\n",
    "\n",
    "# print category\n",
    "# print len(category)\n",
    "# print type(category[1])\n",
    "\n",
    "\n",
    "itemdata={\"asin\":allitems,\"category\":category}\n",
    "itemdf=pd.DataFrame(itemdata)\n",
    "# print itemdf\n",
    "\n",
    "itemAverage={\"itemAverage\":itemAverage}\n",
    "itemAveragedf=pd.DataFrame(itemAverage)\n",
    "# print itemAveragedf\n",
    "itemAveragedf['asin'] = itemAveragedf.index\n",
    "# print itemAveragedf\n",
    "itemdfavg=pd.merge(itemdf, itemAveragedf, on='asin', how='left')\n",
    "itemdfavg=itemdfavg.fillna(globalAverage)\n",
    "\n",
    "vectorizer = TfidfVectorizer(min_df=4, max_df=0.8)\n",
    "catvec=vectorizer.fit_transform(category)\n",
    "# print catvec\n",
    "catarr=catvec.toarray()\n",
    "\n",
    "\n",
    "#kmeans clustering \n",
    "kmeans = KMeans(init='k-means++', n_clusters=200, n_init=10)\n",
    "kmeans.fit_predict(catarr)\n",
    "centroids = kmeans.cluster_centers_\n",
    "labels = kmeans.labels_\n",
    "error = kmeans.inertia_\n",
    "\n",
    "\n",
    "#print kmeans clustering  clusters ie labels and centroids\n",
    "print \"The total error of the clustering is: \", error\n",
    "print '\\nCluster labels'\n",
    "print labels\n",
    "print '\\n Cluster Centroids'\n",
    "print centroids\n"
   ]
  },
  {
   "cell_type": "code",
   "execution_count": 11,
   "metadata": {
    "collapsed": false
   },
   "outputs": [
    {
     "name": "stdout",
     "output_type": "stream",
     "text": [
      "                                                     asin  overall  \\\n",
      "0       a6ed402934e3c1138111dce09256538afb04c566edf37c...        2   \n",
      "1       8939d791e9dd035aa58da024ace69b20d651cea4adf615...        4   \n",
      "2       8939d791e9dd035aa58da024ace69b20d651cea4adf615...        2   \n",
      "3       8939d791e9dd035aa58da024ace69b20d651cea4adf615...        4   \n",
      "4       8939d791e9dd035aa58da024ace69b20d651cea4adf615...        1   \n",
      "5       6ac521636646aaecf483e148a7240f6214b7e5dc809400...        1   \n",
      "6       5da57c87204216c7df1b6d40979a1067f2d0247291cc2b...        4   \n",
      "7       59249d92675e68e4e635c03267aba9e58fa593fd6452ce...        4   \n",
      "8       59249d92675e68e4e635c03267aba9e58fa593fd6452ce...        5   \n",
      "9       59249d92675e68e4e635c03267aba9e58fa593fd6452ce...        5   \n",
      "10      59249d92675e68e4e635c03267aba9e58fa593fd6452ce...        4   \n",
      "11      20452efd72b6b22b093850a8d263c08e0b472edb3300b3...        3   \n",
      "12      20452efd72b6b22b093850a8d263c08e0b472edb3300b3...        5   \n",
      "13      ae42d701ca34d0d3862c3d0ac8a143625d0534de419ef7...        5   \n",
      "14      ae42d701ca34d0d3862c3d0ac8a143625d0534de419ef7...        5   \n",
      "15      ae42d701ca34d0d3862c3d0ac8a143625d0534de419ef7...        5   \n",
      "16      6116d31a297ceb0f8f69f6f71e924e47136fc70c6f5bf7...        5   \n",
      "17      6116d31a297ceb0f8f69f6f71e924e47136fc70c6f5bf7...        5   \n",
      "18      6116d31a297ceb0f8f69f6f71e924e47136fc70c6f5bf7...        1   \n",
      "19      6116d31a297ceb0f8f69f6f71e924e47136fc70c6f5bf7...        5   \n",
      "20      6116d31a297ceb0f8f69f6f71e924e47136fc70c6f5bf7...        3   \n",
      "21      6116d31a297ceb0f8f69f6f71e924e47136fc70c6f5bf7...        4   \n",
      "22      7750bbecbcca4f08ce0296d30a71065830fb10ada6c64a...        4   \n",
      "23      fddffbdc4069e184e0fa1192d2b7c4f31c7592ecd5239a...        2   \n",
      "24      fddffbdc4069e184e0fa1192d2b7c4f31c7592ecd5239a...        1   \n",
      "25      fddffbdc4069e184e0fa1192d2b7c4f31c7592ecd5239a...        1   \n",
      "26      fddffbdc4069e184e0fa1192d2b7c4f31c7592ecd5239a...        1   \n",
      "27      6097be099f56de2cc7774ba6b6220e92b172cc4b8cfb8e...        4   \n",
      "28      6097be099f56de2cc7774ba6b6220e92b172cc4b8cfb8e...        5   \n",
      "29      3d016c9fa9a2e1d641b952171811d7d6467e97d8857187...        5   \n",
      "...                                                   ...      ...   \n",
      "999970  40bc27c57e5869663d42b5e6f8013567fadd1b2aa2d7e4...        5   \n",
      "999971  40bc27c57e5869663d42b5e6f8013567fadd1b2aa2d7e4...        4   \n",
      "999972  40bc27c57e5869663d42b5e6f8013567fadd1b2aa2d7e4...        4   \n",
      "999973  40bc27c57e5869663d42b5e6f8013567fadd1b2aa2d7e4...        5   \n",
      "999974  40bc27c57e5869663d42b5e6f8013567fadd1b2aa2d7e4...        4   \n",
      "999975  40bc27c57e5869663d42b5e6f8013567fadd1b2aa2d7e4...        4   \n",
      "999976  40bc27c57e5869663d42b5e6f8013567fadd1b2aa2d7e4...        1   \n",
      "999977  75f86fa4d40fed9f9924265c12300cc2c0cda25a0ee3b2...        3   \n",
      "999978  ba6be1d2ee4fcd50219c9f68fe3186e54412f4afab16ee...        3   \n",
      "999979  21a9284092b118899f820647ce99510cec81a2365dd35d...        5   \n",
      "999980  21a9284092b118899f820647ce99510cec81a2365dd35d...        1   \n",
      "999981  d3989b0d93593cc16f51f0b4306842f966fefd5e2da625...        1   \n",
      "999982  8356f7cb925bd58d2d73e897f65aea8a826447ae026c49...        1   \n",
      "999983  f266cd9db679e85abe3dbbbca80f0159ef00a192879c60...        4   \n",
      "999984  f266cd9db679e85abe3dbbbca80f0159ef00a192879c60...        5   \n",
      "999985  f266cd9db679e85abe3dbbbca80f0159ef00a192879c60...        3   \n",
      "999986  f266cd9db679e85abe3dbbbca80f0159ef00a192879c60...        2   \n",
      "999987  f266cd9db679e85abe3dbbbca80f0159ef00a192879c60...        3   \n",
      "999988  f266cd9db679e85abe3dbbbca80f0159ef00a192879c60...        3   \n",
      "999989  f266cd9db679e85abe3dbbbca80f0159ef00a192879c60...        3   \n",
      "999990  55b4c017664cc5a428a3473b7f193a436729269bba9591...        2   \n",
      "999991  55b4c017664cc5a428a3473b7f193a436729269bba9591...        2   \n",
      "999992  55b4c017664cc5a428a3473b7f193a436729269bba9591...        1   \n",
      "999993  55b4c017664cc5a428a3473b7f193a436729269bba9591...        2   \n",
      "999994  55b4c017664cc5a428a3473b7f193a436729269bba9591...        3   \n",
      "999995  55b4c017664cc5a428a3473b7f193a436729269bba9591...        1   \n",
      "999996  55b4c017664cc5a428a3473b7f193a436729269bba9591...        1   \n",
      "999997  55b4c017664cc5a428a3473b7f193a436729269bba9591...        5   \n",
      "999998  55b4c017664cc5a428a3473b7f193a436729269bba9591...        4   \n",
      "999999  55b4c017664cc5a428a3473b7f193a436729269bba9591...        4   \n",
      "\n",
      "                                               reviewerID  userAverage  \\\n",
      "0       bc19970fff3383b2fe947cf9a3a5d7b13b6e57ef2cd53a...     2.857143   \n",
      "1       3689286c8658f54a2ff7aa68ce589c81f6cae4c4d9de76...     4.000000   \n",
      "2       57b508e689013c45fb09bfeac20a937f646217a3b61d59...     2.500000   \n",
      "3       4fc477388bace391b5e78ada47d98dff6aabdfbe3180e8...     3.000000   \n",
      "4       3fc6357307c4294342c03f6004f0f9903411078433366f...     1.000000   \n",
      "5       f2034b86666138b093313fc515d39fc827f332785cad28...     1.000000   \n",
      "6       a3b03c64f1b74b290b02318ddd52d2b3604a5e58f9e9c1...     4.000000   \n",
      "7       be34cf2f59e56af2d1dc2d5eb21c1ea556253a357d5f23...     4.000000   \n",
      "8       ad0032f5266476d57f4f0fb305a91664fbbeae7115ca85...     5.000000   \n",
      "9       0ed1addfb44ede8e5d2ff78f54d075c6bfc095c3fb00f6...     5.000000   \n",
      "10      b0aa2cc0b849dbd01ecf45c08b8fdf750548394272711a...     3.333333   \n",
      "11      77508d6e9465bebd8af4438b1b4a4e1c738e3f5bc3f36c...     3.000000   \n",
      "12      b6387ce6755b0c0603bdee1d800774357ae321b214cd51...     5.000000   \n",
      "13      39ff048583982a8379bd25c990355f253823a1d9208053...     4.333333   \n",
      "14      b51d37ccca6d7d406b594bdee9909fd30a9e6f0b678957...     3.833333   \n",
      "15      ba3fdbaad20c30c150896ac3547364bf237a94933fbc49...     4.000000   \n",
      "16      17189218ce98912f1632847c082d40bb567fe654106eea...     5.000000   \n",
      "17      2fa5d80b4ebed2817fca211f103d0210cbb5ba74032f84...     4.500000   \n",
      "18      5bcefbff3c259143f72502d6cf66f4ab74ff4592269466...     2.500000   \n",
      "19      3537001899c5a212f3c58e9cf3b0c01a3fa7b5fe0c5ec1...     5.000000   \n",
      "20      797279a9c69660b9c52643dfa03a648791ef56b9afe7a3...     3.800000   \n",
      "21      88c907a0045d0f1b93687c7a0d983949e28a1832f705a3...     4.000000   \n",
      "22      062aa442c635834e087e7778210029e372b097eb76df34...     4.000000   \n",
      "23      4ef436fbd60945af4d11f8e13ac97b2e1a7bb92876ddfc...     3.625000   \n",
      "24      507f4622c16c0aefc05ddb4c465e436c26970e9741c9a0...     1.000000   \n",
      "25      b16bf41225d374c878db1784bece476c267571ef6026cc...     2.500000   \n",
      "26      cb2afc5f8d82d98cd984578f583a337ccd4af4f089b819...     2.500000   \n",
      "27      650122c021d6029eb730a679ae868a27a36f29dee58f78...     4.298507   \n",
      "28      bd849530ef0eabeee77335ad917bb69fe5f1fddcec8416...     4.000000   \n",
      "29      a841227359cf1fc71bcbc8081710968e4bf7a49a4fa027...     5.000000   \n",
      "...                                                   ...          ...   \n",
      "999970  3e5970ec565e391a03df952a3b2c4b974dd841c3e64a3a...     4.333333   \n",
      "999971  08a180c85004677c1b79ad9529dc62ebe665d3e304b448...     4.000000   \n",
      "999972  ce8f40cfc06ad01f6947ef34ec7fa37e01990708811b28...     4.750000   \n",
      "999973  ff7c734bf6691a189805ee10bf1df44d42374debc879fa...     3.478261   \n",
      "999974  4390b65b2152efea6824af0336b0ff2913af06459e5cd4...     3.250000   \n",
      "999975  50e3909458f97175fa8c2face18f01c027733bb9c92225...     4.500000   \n",
      "999976  18f21a633ceeee1bbe544b2433b6c45ae013ae8f81fc0a...     1.000000   \n",
      "999977  110a7b90416832afcfb22974b11d92ff2d37b8fca60db0...     3.000000   \n",
      "999978  21874b4130c5b76ec452fd68cee7575489d5a469744d57...     4.500000   \n",
      "999979  756501bcef9432ffce3edac617646ed768613ef8bff2ee...     5.000000   \n",
      "999980  a0b8f43230fc00f0dada76727ee4d2dda80185b7c3e101...     2.750000   \n",
      "999981  b930a9ff0cfdae651199b56bf73868c359012986096ac4...     1.000000   \n",
      "999982  e08d5c3b7f3b19f23cbb855cb9deca036b15a22daff90d...     3.166667   \n",
      "999983  2fee479055afbc04015819bf0dd89d7877556932f56af9...     4.000000   \n",
      "999984  507a85ffbc23eefcf9f4d757653c1bc70863a2be9b17c5...     4.200000   \n",
      "999985  fd18eebc6fa4b76efc13de41016a5878f374c3fb4ea95d...     4.000000   \n",
      "999986  aeadb8b6db47f6362946e4ff350f6089a2607f84996be2...     2.857143   \n",
      "999987  4fcb7bb6bb3b527dda2a88df8409e725b710c34a180c93...     3.888889   \n",
      "999988  b2ef28641aa2dae333ceb3c1b2acb47c2bd7df0218aca5...     3.500000   \n",
      "999989  aa7227a2ed0121e26943574991e55035da1ad251659fce...     4.125000   \n",
      "999990  135a4eae237f9556a78d22f48755f23656b0f95dfdc671...     1.500000   \n",
      "999991  ddbaa45b531bfb6fa98953182556c88408764ac8f6e8b6...     3.500000   \n",
      "999992  0a03750d41978d3ddba11a05fc53da5a25e69067d17fe2...     1.000000   \n",
      "999993  bddbe2aa0a12958add5527280f81a346797ab7c6aa1bba...     4.250000   \n",
      "999994  6e689d417b2b974885f5ced6908e9991af76a0be1186de...     3.500000   \n",
      "999995  1a51b241b7293d5fcc5f798d1a7d9213c07060e59a1276...     3.461538   \n",
      "999996  49700e8228d106121ac17707bc1897f07c6bc4c3529473...     3.666667   \n",
      "999997  287ced726f1241f1af667825d73201fd20c7cbe48a9e89...     5.000000   \n",
      "999998  419f06586e8340033024ec827e1d7492b6a4eafb017369...     3.500000   \n",
      "999999  dae5ef433615caeb5e17e34173b79fdbb5cc031b84f864...     4.800000   \n",
      "\n",
      "        noroverall                                           category  \\\n",
      "0        -0.857143   Accessories & Supplies Audio & Video Accessor...   \n",
      "1         0.000000          GPS & Navigation Vehicle GPS Trucking GPS   \n",
      "2        -0.500000          GPS & Navigation Vehicle GPS Trucking GPS   \n",
      "3         1.000000          GPS & Navigation Vehicle GPS Trucking GPS   \n",
      "4         0.000000          GPS & Navigation Vehicle GPS Trucking GPS   \n",
      "5         0.000000         eBook Readers & Accessories Power Adapters   \n",
      "6         0.000000                eBook Readers & Accessories Bundles   \n",
      "7         0.000000                 eBook Readers & Accessories Covers   \n",
      "8         0.000000                 eBook Readers & Accessories Covers   \n",
      "9         0.000000                 eBook Readers & Accessories Covers   \n",
      "10        0.666667                 eBook Readers & Accessories Covers   \n",
      "11        0.000000   Computers & Accessories Laptop & Netbook Comp...   \n",
      "12        0.000000   Computers & Accessories Laptop & Netbook Comp...   \n",
      "13        0.666667   Computers & Accessories Touch Screen Tablet A...   \n",
      "14        1.166667   Computers & Accessories Touch Screen Tablet A...   \n",
      "15        1.000000   Computers & Accessories Touch Screen Tablet A...   \n",
      "16        0.000000         eBook Readers & Accessories Power Adapters   \n",
      "17        0.500000         eBook Readers & Accessories Power Adapters   \n",
      "18       -1.500000         eBook Readers & Accessories Power Adapters   \n",
      "19        0.000000         eBook Readers & Accessories Power Adapters   \n",
      "20       -0.800000         eBook Readers & Accessories Power Adapters   \n",
      "21        0.000000         eBook Readers & Accessories Power Adapters   \n",
      "22        0.000000                       GPS & Navigation Vehicle GPS   \n",
      "23       -1.625000   GPS & Navigation Sports & Handheld GPS Handhe...   \n",
      "24        0.000000   GPS & Navigation Sports & Handheld GPS Handhe...   \n",
      "25       -1.500000   GPS & Navigation Sports & Handheld GPS Handhe...   \n",
      "26       -1.500000   GPS & Navigation Sports & Handheld GPS Handhe...   \n",
      "27       -0.298507   Accessories & Supplies Audio & Video Accessor...   \n",
      "28        1.000000   Accessories & Supplies Audio & Video Accessor...   \n",
      "29        0.000000   Accessories & Supplies Audio & Video Accessor...   \n",
      "...            ...                                                ...   \n",
      "999970    0.666667   Home Audio Stereo Components Speakers Speaker...   \n",
      "999971    0.000000   Home Audio Stereo Components Speakers Speaker...   \n",
      "999972   -0.750000   Home Audio Stereo Components Speakers Speaker...   \n",
      "999973    1.521739   Home Audio Stereo Components Speakers Speaker...   \n",
      "999974    0.750000   Home Audio Stereo Components Speakers Speaker...   \n",
      "999975   -0.500000   Home Audio Stereo Components Speakers Speaker...   \n",
      "999976    0.000000   Home Audio Stereo Components Speakers Speaker...   \n",
      "999977    0.000000   Security & Surveillance Accessories Surveilla...   \n",
      "999978   -1.500000   Computers & Accessories Laptop & Netbook Comp...   \n",
      "999979    0.000000                    Computers & Accessories Laptops   \n",
      "999980   -1.750000                    Computers & Accessories Laptops   \n",
      "999981    0.000000   Accessories & Supplies Audio & Video Accessor...   \n",
      "999982   -2.166667                    Computers & Accessories Laptops   \n",
      "999983    0.000000   Computers & Accessories Touch Screen Tablet A...   \n",
      "999984    0.800000   Computers & Accessories Touch Screen Tablet A...   \n",
      "999985   -1.000000   Computers & Accessories Touch Screen Tablet A...   \n",
      "999986   -0.857143   Computers & Accessories Touch Screen Tablet A...   \n",
      "999987   -0.888889   Computers & Accessories Touch Screen Tablet A...   \n",
      "999988   -0.500000   Computers & Accessories Touch Screen Tablet A...   \n",
      "999989   -1.125000   Computers & Accessories Touch Screen Tablet A...   \n",
      "999990    0.500000   Computers & Accessories Cables & Accessories ...   \n",
      "999991   -1.500000   Computers & Accessories Cables & Accessories ...   \n",
      "999992    0.000000   Computers & Accessories Cables & Accessories ...   \n",
      "999993   -2.250000   Computers & Accessories Cables & Accessories ...   \n",
      "999994   -0.500000   Computers & Accessories Cables & Accessories ...   \n",
      "999995   -2.461538   Computers & Accessories Cables & Accessories ...   \n",
      "999996   -2.666667   Computers & Accessories Cables & Accessories ...   \n",
      "999997    0.000000   Computers & Accessories Cables & Accessories ...   \n",
      "999998    0.500000   Computers & Accessories Cables & Accessories ...   \n",
      "999999   -0.800000   Computers & Accessories Cables & Accessories ...   \n",
      "\n",
      "        itemAverage  cluster  ClusterAverage  \n",
      "0          2.000000       41        3.800708  \n",
      "1          2.750000       76        3.784215  \n",
      "2          2.750000       76        3.784215  \n",
      "3          2.750000       76        3.784215  \n",
      "4          2.750000       76        3.784215  \n",
      "5          1.000000      189        3.805956  \n",
      "6          4.000000      189        3.805956  \n",
      "7          4.500000       15        3.900752  \n",
      "8          4.500000       15        3.900752  \n",
      "9          4.500000       15        3.900752  \n",
      "10         4.500000       15        3.900752  \n",
      "11         4.000000      151        3.650656  \n",
      "12         4.000000      151        3.650656  \n",
      "13         5.000000      139        3.723112  \n",
      "14         5.000000      139        3.723112  \n",
      "15         5.000000      139        3.723112  \n",
      "16         3.833333      189        3.805956  \n",
      "17         3.833333      189        3.805956  \n",
      "18         3.833333      189        3.805956  \n",
      "19         3.833333      189        3.805956  \n",
      "20         3.833333      189        3.805956  \n",
      "21         3.833333      189        3.805956  \n",
      "22         4.000000       17        3.777600  \n",
      "23         1.250000       97        3.634425  \n",
      "24         1.250000       97        3.634425  \n",
      "25         1.250000       97        3.634425  \n",
      "26         1.250000       97        3.634425  \n",
      "27         4.500000       81        3.778673  \n",
      "28         4.500000       81        3.778673  \n",
      "29         5.000000        3        3.855082  \n",
      "...             ...      ...             ...  \n",
      "999970     4.403226      164        3.984953  \n",
      "999971     4.403226      164        3.984953  \n",
      "999972     4.403226      164        3.984953  \n",
      "999973     4.403226      164        3.984953  \n",
      "999974     4.403226      164        3.984953  \n",
      "999975     4.403226      164        3.984953  \n",
      "999976     4.403226      164        3.984953  \n",
      "999977     3.000000      136        3.767163  \n",
      "999978     3.000000      191        3.798308  \n",
      "999979     3.000000       12        3.802100  \n",
      "999980     3.000000       12        3.802100  \n",
      "999981     1.000000      146        3.857170  \n",
      "999982     1.000000       12        3.802100  \n",
      "999983     3.285714        1        3.829225  \n",
      "999984     3.285714        1        3.829225  \n",
      "999985     3.285714        1        3.829225  \n",
      "999986     3.285714        1        3.829225  \n",
      "999987     3.285714        1        3.829225  \n",
      "999988     3.285714        1        3.829225  \n",
      "999989     3.285714        1        3.829225  \n",
      "999990     2.500000       77        3.712028  \n",
      "999991     2.500000       77        3.712028  \n",
      "999992     2.500000       77        3.712028  \n",
      "999993     2.500000       77        3.712028  \n",
      "999994     2.500000       77        3.712028  \n",
      "999995     2.500000       77        3.712028  \n",
      "999996     2.500000       77        3.712028  \n",
      "999997     2.500000       77        3.712028  \n",
      "999998     2.500000       77        3.712028  \n",
      "999999     2.500000       77        3.712028  \n",
      "\n",
      "[1000000 rows x 9 columns]\n"
     ]
    }
   ],
   "source": [
    "#calculation of cluster Average Rating\n",
    "import scipy.spatial.distance as dist\n",
    "def clust_mean(grp):\n",
    "    grp['ClusterAverage'] = grp['itemAverage'].mean()\n",
    "    return grp\n",
    "  \n",
    "itemdfavg['cluster']=labels\n",
    "# print itemdfavg\n",
    "clusterdf=itemdfavg.groupby(['cluster']).apply(clust_mean)\n",
    "\n",
    "\n",
    "userdf=pd.merge(traindfavg, clusterdf, on='asin', how='left')\n",
    "print userdf\n",
    "userdict={}\n",
    "\n",
    "\n",
    "#write the dictionary for future use\n",
    "\n",
    "clusterdict= dict(zip(clusterdf['asin'], clusterdf['ClusterAverage']))\n",
    "userdict=dict(zip(userdf['reviewerID'],userdf['userAverage']))\n"
   ]
  },
  {
   "cell_type": "code",
   "execution_count": 12,
   "metadata": {
    "collapsed": false
   },
   "outputs": [],
   "source": [
    "#writing the new prediction into txt file \n",
    "predictions = open(\"predictions_Rating_clustering.txt\", 'w')\n",
    "for l in open(\"pairs_Rating.txt\"):\n",
    "    if l.startswith(\"reviewerID\"):\n",
    "    #header\n",
    "        predictions.write(l)\n",
    "        continue\n",
    "    u,i = l.strip().split('-')\n",
    "    if u in userdict:\n",
    "        predictions.write(u + '-' + i + ',' + str((clusterdict[i]+userdict[u])/2) + '\\n')\n",
    "    else:\n",
    "        predictions.write(u + '-' + i + ',' + str(clusterdict[i]) + '\\n')\n",
    "predictions.close()\n"
   ]
  },
  {
   "cell_type": "markdown",
   "metadata": {},
   "source": [
    "Report For task 1:\n",
    "The first basic approach to beat baseline score was to cluster similar items on their category data and calculate the cluster average which can be used for prediction of particular item. \n",
    "But python supports graphlab package for building recommendation system which makes use of matrix factorisation  apprach and have stochastic gradient descent for improving the baseline model predicted by matrix factorisation. In order to use graphlab which is not by default in conda env but supports the implementation in conda env, i downloaded the package and created new env in anaconda where graphlab package is present. Launching ipython notebook using this env runs all functions from graphlab package.\n",
    "Link for installing graphlab: https://dato.com/products/create/docs/index.html\n",
    "Also confirmed with professor if we are allowed to use it.\n",
    "\n",
    "Graphlab has many types of recommendation system to implement on user item data to predict rating.\n",
    "I tried with popularity recommender which predict ratings depending on popularity of item . If item is popular then the rating is higher and not that popular then rating will be low.\n",
    "Thi didnt worked that well for our dataset.\n",
    "So started with factorisation recommendation system. \n",
    "Split the train.json into train_set and test_set to evaluate the model from test_set.Used different regularisation value for the model: 0.001,0.0001,0.000001 and plot the graph for rmse error for train_set and test_set.\n",
    "There is good change in the rmse score for regularisation value =0.0001.\n",
    "So built the model for same parameters and used it to predict for user- item pairs and store the prediction into dataframe to write to txt file.\n",
    "Also in graphlab, we have Sframe instead of dataframe.\n",
    "To get Sframe for particular dataframe, we write dataframe to csv file and then read csv file into Sframe. "
   ]
  },
  {
   "cell_type": "code",
   "execution_count": 2,
   "metadata": {
    "collapsed": true
   },
   "outputs": [],
   "source": [
    "#convert train.json dataframe to csv to use for graph lab \n",
    "traindfavg.to_csv('trainingdf.csv',index=False, cols=('reviewerID','asin','overall'))\n"
   ]
  },
  {
   "cell_type": "code",
   "execution_count": 15,
   "metadata": {
    "collapsed": false
   },
   "outputs": [],
   "source": [
    "#convert pairs_Rating dataframe to csv to use for graphlab \n",
    "import csv\n",
    "\n",
    "txt_file = r\"pairs_Rating.txt\"\n",
    "csv_file = r\"testdf.csv\"\n",
    "\n",
    "in_txt = csv.reader(open(txt_file, \"rb\"), delimiter = '-')\n",
    "out_csv = csv.writer(open(csv_file, 'wb'))\n",
    "\n",
    "out_csv.writerows(in_txt)"
   ]
  },
  {
   "cell_type": "code",
   "execution_count": 26,
   "metadata": {
    "collapsed": false
   },
   "outputs": [
    {
     "data": {
      "text/html": [
       "<pre>Finished parsing file /Users/vsanghvi007/CS591/hw4-submission/trainingdf.csv</pre>"
      ],
      "text/plain": [
       "Finished parsing file /Users/vsanghvi007/CS591/hw4-submission/trainingdf.csv"
      ]
     },
     "metadata": {},
     "output_type": "display_data"
    },
    {
     "data": {
      "text/html": [
       "<pre>Parsing completed. Parsed 100 lines in 1.22124 secs.</pre>"
      ],
      "text/plain": [
       "Parsing completed. Parsed 100 lines in 1.22124 secs."
      ]
     },
     "metadata": {},
     "output_type": "display_data"
    },
    {
     "name": "stdout",
     "output_type": "stream",
     "text": [
      "------------------------------------------------------\n",
      "Inferred types from first line of file as \n",
      "column_type_hints=[str,int,str]\n",
      "If parsing fails due to incorrect types, you can correct\n",
      "the inferred type list above and pass it to read_csv in\n",
      "the column_type_hints argument\n",
      "------------------------------------------------------\n"
     ]
    },
    {
     "data": {
      "text/html": [
       "<pre>Read 394201 lines. Lines per second: 222583</pre>"
      ],
      "text/plain": [
       "Read 394201 lines. Lines per second: 222583"
      ]
     },
     "metadata": {},
     "output_type": "display_data"
    },
    {
     "data": {
      "text/html": [
       "<pre>Finished parsing file /Users/vsanghvi007/CS591/hw4-submission/trainingdf.csv</pre>"
      ],
      "text/plain": [
       "Finished parsing file /Users/vsanghvi007/CS591/hw4-submission/trainingdf.csv"
      ]
     },
     "metadata": {},
     "output_type": "display_data"
    },
    {
     "data": {
      "text/html": [
       "<pre>Parsing completed. Parsed 1000000 lines in 2.91601 secs.</pre>"
      ],
      "text/plain": [
       "Parsing completed. Parsed 1000000 lines in 2.91601 secs."
      ]
     },
     "metadata": {},
     "output_type": "display_data"
    },
    {
     "data": {
      "text/html": [
       "<pre>Finished parsing file /Users/vsanghvi007/CS591/hw4-submission/testdf.csv</pre>"
      ],
      "text/plain": [
       "Finished parsing file /Users/vsanghvi007/CS591/hw4-submission/testdf.csv"
      ]
     },
     "metadata": {},
     "output_type": "display_data"
    },
    {
     "data": {
      "text/html": [
       "<pre>Parsing completed. Parsed 100 lines in 0.363426 secs.</pre>"
      ],
      "text/plain": [
       "Parsing completed. Parsed 100 lines in 0.363426 secs."
      ]
     },
     "metadata": {},
     "output_type": "display_data"
    },
    {
     "name": "stdout",
     "output_type": "stream",
     "text": [
      "------------------------------------------------------\n",
      "Inferred types from first line of file as \n",
      "column_type_hints=[str,str]\n",
      "If parsing fails due to incorrect types, you can correct\n",
      "the inferred type list above and pass it to read_csv in\n",
      "the column_type_hints argument\n",
      "------------------------------------------------------\n"
     ]
    },
    {
     "data": {
      "text/html": [
       "<pre>Finished parsing file /Users/vsanghvi007/CS591/hw4-submission/testdf.csv</pre>"
      ],
      "text/plain": [
       "Finished parsing file /Users/vsanghvi007/CS591/hw4-submission/testdf.csv"
      ]
     },
     "metadata": {},
     "output_type": "display_data"
    },
    {
     "data": {
      "text/html": [
       "<pre>Parsing completed. Parsed 100000 lines in 0.456289 secs.</pre>"
      ],
      "text/plain": [
       "Parsing completed. Parsed 100000 lines in 0.456289 secs."
      ]
     },
     "metadata": {},
     "output_type": "display_data"
    },
    {
     "name": "stdout",
     "output_type": "stream",
     "text": [
      "+-------------------------------+---------+-------------------------------+\n",
      "|              asin             | overall |           reviewerID          |\n",
      "+-------------------------------+---------+-------------------------------+\n",
      "| a6ed402934e3c1138111dce092... |    2    | bc19970fff3383b2fe947cf9a3... |\n",
      "| 8939d791e9dd035aa58da024ac... |    4    | 3689286c8658f54a2ff7aa68ce... |\n",
      "| 8939d791e9dd035aa58da024ac... |    2    | 57b508e689013c45fb09bfeac2... |\n",
      "| 8939d791e9dd035aa58da024ac... |    4    | 4fc477388bace391b5e78ada47... |\n",
      "| 8939d791e9dd035aa58da024ac... |    1    | 3fc6357307c4294342c03f6004... |\n",
      "| 6ac521636646aaecf483e148a7... |    1    | f2034b86666138b093313fc515... |\n",
      "| 5da57c87204216c7df1b6d4097... |    4    | a3b03c64f1b74b290b02318ddd... |\n",
      "| 59249d92675e68e4e635c03267... |    4    | be34cf2f59e56af2d1dc2d5eb2... |\n",
      "| 59249d92675e68e4e635c03267... |    5    | ad0032f5266476d57f4f0fb305... |\n",
      "| 59249d92675e68e4e635c03267... |    5    | 0ed1addfb44ede8e5d2ff78f54... |\n",
      "+-------------------------------+---------+-------------------------------+\n",
      "[1000000 rows x 3 columns]\n",
      "Note: Only the head of the SFrame is printed.\n",
      "You can use print_rows(num_rows=m, num_columns=n) to print more rows and columns.\n",
      "+-------------------------------+-------------------------------+\n",
      "|           reviewerID          |              asin             |\n",
      "+-------------------------------+-------------------------------+\n",
      "| f0ce42c52f549e542b28cb6351... | 6116d31a297ceb0f8f69f6f71e... |\n",
      "| b3deb19947aca2ba8b1603d68f... | fddffbdc4069e184e0fa1192d2... |\n",
      "| f14792f1e384c11d8b7e6888c3... | 13132c29b5bca0c7d8521c5717... |\n",
      "| 9daf8337517fcebd589d5ff236... | 13132c29b5bca0c7d8521c5717... |\n",
      "| 0a770f7985c27615807712f18c... | 13132c29b5bca0c7d8521c5717... |\n",
      "| 65933ec19897c04d509baaefec... | 13132c29b5bca0c7d8521c5717... |\n",
      "| c2b1afb33461106241a366abd9... | 13132c29b5bca0c7d8521c5717... |\n",
      "| bf8ce25785dd389d79e9cf7034... | 13132c29b5bca0c7d8521c5717... |\n",
      "| 875e7c0bc62bf6aabe06f0dad9... | 362455b1ea124d0f5739a95182... |\n",
      "| 2593651d510e1d7f1a39eae992... | 362455b1ea124d0f5739a95182... |\n",
      "+-------------------------------+-------------------------------+\n",
      "[100000 rows x 2 columns]\n",
      "Note: Only the head of the SFrame is printed.\n",
      "You can use print_rows(num_rows=m, num_columns=n) to print more rows and columns.\n"
     ]
    }
   ],
   "source": [
    "#import the required packages\n",
    "import graphlab as gl\n",
    "import matplotlib.pyplot as plt\n",
    "from graphlab import SFrame\n",
    "%matplotlib inline\n",
    "#sf frame for train.json data having reviewerID, asin and overall\n",
    "\n",
    "sf = gl.SFrame.read_csv('trainingdf.csv')\n",
    "#sf_test frame from pairs_Rating.txt having reviewerID, asin.\n",
    "sf_test=gl.SFrame.read_csv('testdf.csv')\n",
    "print sf\n",
    "print sf_test"
   ]
  },
  {
   "cell_type": "code",
   "execution_count": 5,
   "metadata": {
    "collapsed": true
   },
   "outputs": [],
   "source": [
    "#splitting sf into train_set and test_set\n",
    "(train_set, test_set) = sf.random_split(0.8)"
   ]
  },
  {
   "cell_type": "code",
   "execution_count": 7,
   "metadata": {
    "collapsed": false
   },
   "outputs": [
    {
     "data": {
      "text/html": [
       "<pre>Recsys training: model = popularity</pre>"
      ],
      "text/plain": [
       "Recsys training: model = popularity"
      ]
     },
     "metadata": {},
     "output_type": "display_data"
    },
    {
     "data": {
      "text/html": [
       "<pre>Preparing data set.</pre>"
      ],
      "text/plain": [
       "Preparing data set."
      ]
     },
     "metadata": {},
     "output_type": "display_data"
    },
    {
     "data": {
      "text/html": [
       "<pre>    Data has 800214 observations with 450240 users and 154891 items.</pre>"
      ],
      "text/plain": [
       "    Data has 800214 observations with 450240 users and 154891 items."
      ]
     },
     "metadata": {},
     "output_type": "display_data"
    },
    {
     "data": {
      "text/html": [
       "<pre>    Data prepared in: 1.75298s</pre>"
      ],
      "text/plain": [
       "    Data prepared in: 1.75298s"
      ]
     },
     "metadata": {},
     "output_type": "display_data"
    },
    {
     "data": {
      "text/html": [
       "<pre>800214 observations to process; with 154891 unique items.</pre>"
      ],
      "text/plain": [
       "800214 observations to process; with 154891 unique items."
      ]
     },
     "metadata": {},
     "output_type": "display_data"
    },
    {
     "data": {
      "text/html": [
       "<pre>Recsys training: model = popularity</pre>"
      ],
      "text/plain": [
       "Recsys training: model = popularity"
      ]
     },
     "metadata": {},
     "output_type": "display_data"
    },
    {
     "data": {
      "text/html": [
       "<pre>Preparing data set.</pre>"
      ],
      "text/plain": [
       "Preparing data set."
      ]
     },
     "metadata": {},
     "output_type": "display_data"
    },
    {
     "data": {
      "text/html": [
       "<pre>    Data has 1000000 observations with 509678 users and 171185 items.</pre>"
      ],
      "text/plain": [
       "    Data has 1000000 observations with 509678 users and 171185 items."
      ]
     },
     "metadata": {},
     "output_type": "display_data"
    },
    {
     "data": {
      "text/html": [
       "<pre>    Data prepared in: 2.09582s</pre>"
      ],
      "text/plain": [
       "    Data prepared in: 2.09582s"
      ]
     },
     "metadata": {},
     "output_type": "display_data"
    },
    {
     "data": {
      "text/html": [
       "<pre>1000000 observations to process; with 171185 unique items.</pre>"
      ],
      "text/plain": [
       "1000000 observations to process; with 171185 unique items."
      ]
     },
     "metadata": {},
     "output_type": "display_data"
    }
   ],
   "source": [
    "#popularity recommendation model for train_set\n",
    "m = gl.popularity_recommender.create(train_set, 'reviewerID', 'asin', 'overall')\n",
    "#popularity recommendation mode for entire sf data\n",
    "m1 = gl.popularity_recommender.create(sf, 'reviewerID', 'asin', 'overall')"
   ]
  },
  {
   "cell_type": "code",
   "execution_count": 10,
   "metadata": {
    "collapsed": false
   },
   "outputs": [
    {
     "name": "stdout",
     "output_type": "stream",
     "text": [
      "1.47141730476\n",
      "1.24026807173\n"
     ]
    }
   ],
   "source": [
    "#rmse error of model m having train_set\n",
    "baseline_rmse = gl.evaluation.rmse(test_set['overall'], m.predict(test_set))\n",
    "print baseline_rmse\n",
    "#rmse error of model m1 having  entire train.json data\n",
    "baseline_rmse1 = gl.evaluation.rmse(sf['overall'], m1.predict(sf))\n",
    "print baseline_rmse1"
   ]
  },
  {
   "cell_type": "code",
   "execution_count": 15,
   "metadata": {
    "collapsed": false,
    "scrolled": false
   },
   "outputs": [
    {
     "data": {
      "text/html": [
       "<pre>Recsys training: model = factorization_recommender</pre>"
      ],
      "text/plain": [
       "Recsys training: model = factorization_recommender"
      ]
     },
     "metadata": {},
     "output_type": "display_data"
    },
    {
     "data": {
      "text/html": [
       "<pre>Preparing data set.</pre>"
      ],
      "text/plain": [
       "Preparing data set."
      ]
     },
     "metadata": {},
     "output_type": "display_data"
    },
    {
     "data": {
      "text/html": [
       "<pre>    Data has 800214 observations with 450240 users and 154891 items.</pre>"
      ],
      "text/plain": [
       "    Data has 800214 observations with 450240 users and 154891 items."
      ]
     },
     "metadata": {},
     "output_type": "display_data"
    },
    {
     "data": {
      "text/html": [
       "<pre>    Data prepared in: 1.85571s</pre>"
      ],
      "text/plain": [
       "    Data prepared in: 1.85571s"
      ]
     },
     "metadata": {},
     "output_type": "display_data"
    },
    {
     "data": {
      "text/html": [
       "<pre>Training factorization_recommender for recommendations.</pre>"
      ],
      "text/plain": [
       "Training factorization_recommender for recommendations."
      ]
     },
     "metadata": {},
     "output_type": "display_data"
    },
    {
     "data": {
      "text/html": [
       "<pre>+--------------------------------+--------------------------------------------------+----------+</pre>"
      ],
      "text/plain": [
       "+--------------------------------+--------------------------------------------------+----------+"
      ]
     },
     "metadata": {},
     "output_type": "display_data"
    },
    {
     "data": {
      "text/html": [
       "<pre>| Parameter                      | Description                                      | Value    |</pre>"
      ],
      "text/plain": [
       "| Parameter                      | Description                                      | Value    |"
      ]
     },
     "metadata": {},
     "output_type": "display_data"
    },
    {
     "data": {
      "text/html": [
       "<pre>+--------------------------------+--------------------------------------------------+----------+</pre>"
      ],
      "text/plain": [
       "+--------------------------------+--------------------------------------------------+----------+"
      ]
     },
     "metadata": {},
     "output_type": "display_data"
    },
    {
     "data": {
      "text/html": [
       "<pre>| num_factors                    | Factor Dimension                                 | 5        |</pre>"
      ],
      "text/plain": [
       "| num_factors                    | Factor Dimension                                 | 5        |"
      ]
     },
     "metadata": {},
     "output_type": "display_data"
    },
    {
     "data": {
      "text/html": [
       "<pre>| regularization                 | L2 Regularization on Factors                     | 0.001    |</pre>"
      ],
      "text/plain": [
       "| regularization                 | L2 Regularization on Factors                     | 0.001    |"
      ]
     },
     "metadata": {},
     "output_type": "display_data"
    },
    {
     "data": {
      "text/html": [
       "<pre>| solver                         | Solver used for training                         | sgd      |</pre>"
      ],
      "text/plain": [
       "| solver                         | Solver used for training                         | sgd      |"
      ]
     },
     "metadata": {},
     "output_type": "display_data"
    },
    {
     "data": {
      "text/html": [
       "<pre>| linear_regularization          | L2 Regularization on Linear Coefficients         | 1e-10    |</pre>"
      ],
      "text/plain": [
       "| linear_regularization          | L2 Regularization on Linear Coefficients         | 1e-10    |"
      ]
     },
     "metadata": {},
     "output_type": "display_data"
    },
    {
     "data": {
      "text/html": [
       "<pre>| max_iterations                 | Maximum Number of Iterations                     | 50       |</pre>"
      ],
      "text/plain": [
       "| max_iterations                 | Maximum Number of Iterations                     | 50       |"
      ]
     },
     "metadata": {},
     "output_type": "display_data"
    },
    {
     "data": {
      "text/html": [
       "<pre>+--------------------------------+--------------------------------------------------+----------+</pre>"
      ],
      "text/plain": [
       "+--------------------------------+--------------------------------------------------+----------+"
      ]
     },
     "metadata": {},
     "output_type": "display_data"
    },
    {
     "data": {
      "text/html": [
       "<pre>  Optimizing model using SGD; tuning step size.</pre>"
      ],
      "text/plain": [
       "  Optimizing model using SGD; tuning step size."
      ]
     },
     "metadata": {},
     "output_type": "display_data"
    },
    {
     "data": {
      "text/html": [
       "<pre>  Using 100026 / 800214 points for tuning the step size.</pre>"
      ],
      "text/plain": [
       "  Using 100026 / 800214 points for tuning the step size."
      ]
     },
     "metadata": {},
     "output_type": "display_data"
    },
    {
     "data": {
      "text/html": [
       "<pre>+---------+-------------------+------------------------------------------+</pre>"
      ],
      "text/plain": [
       "+---------+-------------------+------------------------------------------+"
      ]
     },
     "metadata": {},
     "output_type": "display_data"
    },
    {
     "data": {
      "text/html": [
       "<pre>| Attempt | Initial Step Size | Estimated Objective Value                |</pre>"
      ],
      "text/plain": [
       "| Attempt | Initial Step Size | Estimated Objective Value                |"
      ]
     },
     "metadata": {},
     "output_type": "display_data"
    },
    {
     "data": {
      "text/html": [
       "<pre>+---------+-------------------+------------------------------------------+</pre>"
      ],
      "text/plain": [
       "+---------+-------------------+------------------------------------------+"
      ]
     },
     "metadata": {},
     "output_type": "display_data"
    },
    {
     "data": {
      "text/html": [
       "<pre>| 0       | 0.0920745         | No Decrease (3.83902 >= 2.11234)         |</pre>"
      ],
      "text/plain": [
       "| 0       | 0.0920745         | No Decrease (3.83902 >= 2.11234)         |"
      ]
     },
     "metadata": {},
     "output_type": "display_data"
    },
    {
     "data": {
      "text/html": [
       "<pre>| 1       | 0.0230186         | 1.68711                                  |</pre>"
      ],
      "text/plain": [
       "| 1       | 0.0230186         | 1.68711                                  |"
      ]
     },
     "metadata": {},
     "output_type": "display_data"
    },
    {
     "data": {
      "text/html": [
       "<pre>| 2       | 0.0115093         | 1.85849                                  |</pre>"
      ],
      "text/plain": [
       "| 2       | 0.0115093         | 1.85849                                  |"
      ]
     },
     "metadata": {},
     "output_type": "display_data"
    },
    {
     "data": {
      "text/html": [
       "<pre>| 3       | 0.00575466        | 1.95654                                  |</pre>"
      ],
      "text/plain": [
       "| 3       | 0.00575466        | 1.95654                                  |"
      ]
     },
     "metadata": {},
     "output_type": "display_data"
    },
    {
     "data": {
      "text/html": [
       "<pre>| 4       | 0.00287733        | 2.01257                                  |</pre>"
      ],
      "text/plain": [
       "| 4       | 0.00287733        | 2.01257                                  |"
      ]
     },
     "metadata": {},
     "output_type": "display_data"
    },
    {
     "data": {
      "text/html": [
       "<pre>+---------+-------------------+------------------------------------------+</pre>"
      ],
      "text/plain": [
       "+---------+-------------------+------------------------------------------+"
      ]
     },
     "metadata": {},
     "output_type": "display_data"
    },
    {
     "data": {
      "text/html": [
       "<pre>| Final   | 0.0230186         | 1.68711                                  |</pre>"
      ],
      "text/plain": [
       "| Final   | 0.0230186         | 1.68711                                  |"
      ]
     },
     "metadata": {},
     "output_type": "display_data"
    },
    {
     "data": {
      "text/html": [
       "<pre>+---------+-------------------+------------------------------------------+</pre>"
      ],
      "text/plain": [
       "+---------+-------------------+------------------------------------------+"
      ]
     },
     "metadata": {},
     "output_type": "display_data"
    },
    {
     "data": {
      "text/html": [
       "<pre>Starting Optimization.</pre>"
      ],
      "text/plain": [
       "Starting Optimization."
      ]
     },
     "metadata": {},
     "output_type": "display_data"
    },
    {
     "data": {
      "text/html": [
       "<pre>+---------+--------------+-------------------+-----------------------+-------------+</pre>"
      ],
      "text/plain": [
       "+---------+--------------+-------------------+-----------------------+-------------+"
      ]
     },
     "metadata": {},
     "output_type": "display_data"
    },
    {
     "data": {
      "text/html": [
       "<pre>| Iter.   | Elapsed Time | Approx. Objective | Approx. Training RMSE | Step Size   |</pre>"
      ],
      "text/plain": [
       "| Iter.   | Elapsed Time | Approx. Objective | Approx. Training RMSE | Step Size   |"
      ]
     },
     "metadata": {},
     "output_type": "display_data"
    },
    {
     "data": {
      "text/html": [
       "<pre>+---------+--------------+-------------------+-----------------------+-------------+</pre>"
      ],
      "text/plain": [
       "+---------+--------------+-------------------+-----------------------+-------------+"
      ]
     },
     "metadata": {},
     "output_type": "display_data"
    },
    {
     "data": {
      "text/html": [
       "<pre>| Initial | 75us         | 2.11004           | 1.45259               |             |</pre>"
      ],
      "text/plain": [
       "| Initial | 75us         | 2.11004           | 1.45259               |             |"
      ]
     },
     "metadata": {},
     "output_type": "display_data"
    },
    {
     "data": {
      "text/html": [
       "<pre>+---------+--------------+-------------------+-----------------------+-------------+</pre>"
      ],
      "text/plain": [
       "+---------+--------------+-------------------+-----------------------+-------------+"
      ]
     },
     "metadata": {},
     "output_type": "display_data"
    },
    {
     "data": {
      "text/html": [
       "<pre>| 1       | 339.206ms    | DIVERGED          | DIVERGED              | 0.0230186   |</pre>"
      ],
      "text/plain": [
       "| 1       | 339.206ms    | DIVERGED          | DIVERGED              | 0.0230186   |"
      ]
     },
     "metadata": {},
     "output_type": "display_data"
    },
    {
     "data": {
      "text/html": [
       "<pre>| RESET   | 508.737ms    | 2.11004           | 1.45259               |             |</pre>"
      ],
      "text/plain": [
       "| RESET   | 508.737ms    | 2.11004           | 1.45259               |             |"
      ]
     },
     "metadata": {},
     "output_type": "display_data"
    },
    {
     "data": {
      "text/html": [
       "<pre>| 1       | 793.462ms    | DIVERGED          | DIVERGED              | 0.0115093   |</pre>"
      ],
      "text/plain": [
       "| 1       | 793.462ms    | DIVERGED          | DIVERGED              | 0.0115093   |"
      ]
     },
     "metadata": {},
     "output_type": "display_data"
    },
    {
     "data": {
      "text/html": [
       "<pre>| RESET   | 957.69ms     | 2.11004           | 1.45259               |             |</pre>"
      ],
      "text/plain": [
       "| RESET   | 957.69ms     | 2.11004           | 1.45259               |             |"
      ]
     },
     "metadata": {},
     "output_type": "display_data"
    },
    {
     "data": {
      "text/html": [
       "<pre>| 1       | 1.17s        | 2.05132           | 1.43211               | 0.00575466  |</pre>"
      ],
      "text/plain": [
       "| 1       | 1.17s        | 2.05132           | 1.43211               | 0.00575466  |"
      ]
     },
     "metadata": {},
     "output_type": "display_data"
    },
    {
     "data": {
      "text/html": [
       "<pre>| 2       | 1.39s        | 1.92722           | 1.38822               | 0.00102671  |</pre>"
      ],
      "text/plain": [
       "| 2       | 1.39s        | 1.92722           | 1.38822               | 0.00102671  |"
      ]
     },
     "metadata": {},
     "output_type": "display_data"
    },
    {
     "data": {
      "text/html": [
       "<pre>| 3       | 1.60s        | 1.90747           | 1.3811                | 0.000563634 |</pre>"
      ],
      "text/plain": [
       "| 3       | 1.60s        | 1.90747           | 1.3811                | 0.000563634 |"
      ]
     },
     "metadata": {},
     "output_type": "display_data"
    },
    {
     "data": {
      "text/html": [
       "<pre>| 4       | 1.80s        | 1.89686           | 1.37726               | 0.000388438 |</pre>"
      ],
      "text/plain": [
       "| 4       | 1.80s        | 1.89686           | 1.37726               | 0.000388438 |"
      ]
     },
     "metadata": {},
     "output_type": "display_data"
    },
    {
     "data": {
      "text/html": [
       "<pre>| 5       | 2.01s        | 1.88966           | 1.37465               | 0.000296329 |</pre>"
      ],
      "text/plain": [
       "| 5       | 2.01s        | 1.88966           | 1.37465               | 0.000296329 |"
      ]
     },
     "metadata": {},
     "output_type": "display_data"
    },
    {
     "data": {
      "text/html": [
       "<pre>| 6       | 2.22s        | 1.88424           | 1.37267               | 0.00023953  |</pre>"
      ],
      "text/plain": [
       "| 6       | 2.22s        | 1.88424           | 1.37267               | 0.00023953  |"
      ]
     },
     "metadata": {},
     "output_type": "display_data"
    },
    {
     "data": {
      "text/html": [
       "<pre>| 8       | 2.60s        | 1.87628           | 1.36977               | 0.000173152 |</pre>"
      ],
      "text/plain": [
       "| 8       | 2.60s        | 1.87628           | 1.36977               | 0.000173152 |"
      ]
     },
     "metadata": {},
     "output_type": "display_data"
    },
    {
     "data": {
      "text/html": [
       "<pre>| 11      | 3.16s        | 1.8681            | 1.36678               | 0.000122311 |</pre>"
      ],
      "text/plain": [
       "| 11      | 3.16s        | 1.8681            | 1.36678               | 0.000122311 |"
      ]
     },
     "metadata": {},
     "output_type": "display_data"
    },
    {
     "data": {
      "text/html": [
       "<pre>| 13      | 3.54s        | 1.86401           | 1.36529               | 0.000102288 |</pre>"
      ],
      "text/plain": [
       "| 13      | 3.54s        | 1.86401           | 1.36529               | 0.000102288 |"
      ]
     },
     "metadata": {},
     "output_type": "display_data"
    },
    {
     "data": {
      "text/html": [
       "<pre>| 18      | 4.45s        | 1.85634           | 1.36248               | 7.25826e-05 |</pre>"
      ],
      "text/plain": [
       "| 18      | 4.45s        | 1.85634           | 1.36248               | 7.25826e-05 |"
      ]
     },
     "metadata": {},
     "output_type": "display_data"
    },
    {
     "data": {
      "text/html": [
       "<pre>| 23      | 5.33s        | 1.85078           | 1.36043               | 5.62478e-05 |</pre>"
      ],
      "text/plain": [
       "| 23      | 5.33s        | 1.85078           | 1.36043               | 5.62478e-05 |"
      ]
     },
     "metadata": {},
     "output_type": "display_data"
    },
    {
     "data": {
      "text/html": [
       "<pre>| 28      | 6.24s        | 1.84643           | 1.35883               | 4.59146e-05 |</pre>"
      ],
      "text/plain": [
       "| 28      | 6.24s        | 1.84643           | 1.35883               | 4.59146e-05 |"
      ]
     },
     "metadata": {},
     "output_type": "display_data"
    },
    {
     "data": {
      "text/html": [
       "<pre>| 33      | 7.13s        | 1.84286           | 1.35752               | 3.87888e-05 |</pre>"
      ],
      "text/plain": [
       "| 33      | 7.13s        | 1.84286           | 1.35752               | 3.87888e-05 |"
      ]
     },
     "metadata": {},
     "output_type": "display_data"
    },
    {
     "data": {
      "text/html": [
       "<pre>| 38      | 8.02s        | 1.83984           | 1.35641               | 3.35777e-05 |</pre>"
      ],
      "text/plain": [
       "| 38      | 8.02s        | 1.83984           | 1.35641               | 3.35777e-05 |"
      ]
     },
     "metadata": {},
     "output_type": "display_data"
    },
    {
     "data": {
      "text/html": [
       "<pre>| 43      | 8.89s        | 1.83722           | 1.35544               | 2.96009e-05 |</pre>"
      ],
      "text/plain": [
       "| 43      | 8.89s        | 1.83722           | 1.35544               | 2.96009e-05 |"
      ]
     },
     "metadata": {},
     "output_type": "display_data"
    },
    {
     "data": {
      "text/html": [
       "<pre>| 48      | 9.79s        | 1.83492           | 1.35459               | 2.64663e-05 |</pre>"
      ],
      "text/plain": [
       "| 48      | 9.79s        | 1.83492           | 1.35459               | 2.64663e-05 |"
      ]
     },
     "metadata": {},
     "output_type": "display_data"
    },
    {
     "data": {
      "text/html": [
       "<pre>+---------+--------------+-------------------+-----------------------+-------------+</pre>"
      ],
      "text/plain": [
       "+---------+--------------+-------------------+-----------------------+-------------+"
      ]
     },
     "metadata": {},
     "output_type": "display_data"
    },
    {
     "data": {
      "text/html": [
       "<pre>Optimization Complete: Maximum number of passes through the data reached.</pre>"
      ],
      "text/plain": [
       "Optimization Complete: Maximum number of passes through the data reached."
      ]
     },
     "metadata": {},
     "output_type": "display_data"
    },
    {
     "data": {
      "text/html": [
       "<pre>Computing final objective value and training RMSE.</pre>"
      ],
      "text/plain": [
       "Computing final objective value and training RMSE."
      ]
     },
     "metadata": {},
     "output_type": "display_data"
    },
    {
     "data": {
      "text/html": [
       "<pre>       Final objective value: 1.83367</pre>"
      ],
      "text/plain": [
       "       Final objective value: 1.83367"
      ]
     },
     "metadata": {},
     "output_type": "display_data"
    },
    {
     "data": {
      "text/html": [
       "<pre>       Final training RMSE: 1.35413</pre>"
      ],
      "text/plain": [
       "       Final training RMSE: 1.35413"
      ]
     },
     "metadata": {},
     "output_type": "display_data"
    },
    {
     "data": {
      "text/html": [
       "<pre>Recsys training: model = factorization_recommender</pre>"
      ],
      "text/plain": [
       "Recsys training: model = factorization_recommender"
      ]
     },
     "metadata": {},
     "output_type": "display_data"
    },
    {
     "data": {
      "text/html": [
       "<pre>Preparing data set.</pre>"
      ],
      "text/plain": [
       "Preparing data set."
      ]
     },
     "metadata": {},
     "output_type": "display_data"
    },
    {
     "data": {
      "text/html": [
       "<pre>    Data has 800214 observations with 450240 users and 154891 items.</pre>"
      ],
      "text/plain": [
       "    Data has 800214 observations with 450240 users and 154891 items."
      ]
     },
     "metadata": {},
     "output_type": "display_data"
    },
    {
     "data": {
      "text/html": [
       "<pre>    Data prepared in: 1.57107s</pre>"
      ],
      "text/plain": [
       "    Data prepared in: 1.57107s"
      ]
     },
     "metadata": {},
     "output_type": "display_data"
    },
    {
     "data": {
      "text/html": [
       "<pre>Training factorization_recommender for recommendations.</pre>"
      ],
      "text/plain": [
       "Training factorization_recommender for recommendations."
      ]
     },
     "metadata": {},
     "output_type": "display_data"
    },
    {
     "data": {
      "text/html": [
       "<pre>+--------------------------------+--------------------------------------------------+----------+</pre>"
      ],
      "text/plain": [
       "+--------------------------------+--------------------------------------------------+----------+"
      ]
     },
     "metadata": {},
     "output_type": "display_data"
    },
    {
     "data": {
      "text/html": [
       "<pre>| Parameter                      | Description                                      | Value    |</pre>"
      ],
      "text/plain": [
       "| Parameter                      | Description                                      | Value    |"
      ]
     },
     "metadata": {},
     "output_type": "display_data"
    },
    {
     "data": {
      "text/html": [
       "<pre>+--------------------------------+--------------------------------------------------+----------+</pre>"
      ],
      "text/plain": [
       "+--------------------------------+--------------------------------------------------+----------+"
      ]
     },
     "metadata": {},
     "output_type": "display_data"
    },
    {
     "data": {
      "text/html": [
       "<pre>| num_factors                    | Factor Dimension                                 | 5        |</pre>"
      ],
      "text/plain": [
       "| num_factors                    | Factor Dimension                                 | 5        |"
      ]
     },
     "metadata": {},
     "output_type": "display_data"
    },
    {
     "data": {
      "text/html": [
       "<pre>| regularization                 | L2 Regularization on Factors                     | 0.0001   |</pre>"
      ],
      "text/plain": [
       "| regularization                 | L2 Regularization on Factors                     | 0.0001   |"
      ]
     },
     "metadata": {},
     "output_type": "display_data"
    },
    {
     "data": {
      "text/html": [
       "<pre>| solver                         | Solver used for training                         | sgd      |</pre>"
      ],
      "text/plain": [
       "| solver                         | Solver used for training                         | sgd      |"
      ]
     },
     "metadata": {},
     "output_type": "display_data"
    },
    {
     "data": {
      "text/html": [
       "<pre>| linear_regularization          | L2 Regularization on Linear Coefficients         | 1e-10    |</pre>"
      ],
      "text/plain": [
       "| linear_regularization          | L2 Regularization on Linear Coefficients         | 1e-10    |"
      ]
     },
     "metadata": {},
     "output_type": "display_data"
    },
    {
     "data": {
      "text/html": [
       "<pre>| max_iterations                 | Maximum Number of Iterations                     | 50       |</pre>"
      ],
      "text/plain": [
       "| max_iterations                 | Maximum Number of Iterations                     | 50       |"
      ]
     },
     "metadata": {},
     "output_type": "display_data"
    },
    {
     "data": {
      "text/html": [
       "<pre>+--------------------------------+--------------------------------------------------+----------+</pre>"
      ],
      "text/plain": [
       "+--------------------------------+--------------------------------------------------+----------+"
      ]
     },
     "metadata": {},
     "output_type": "display_data"
    },
    {
     "data": {
      "text/html": [
       "<pre>  Optimizing model using SGD; tuning step size.</pre>"
      ],
      "text/plain": [
       "  Optimizing model using SGD; tuning step size."
      ]
     },
     "metadata": {},
     "output_type": "display_data"
    },
    {
     "data": {
      "text/html": [
       "<pre>  Using 100026 / 800214 points for tuning the step size.</pre>"
      ],
      "text/plain": [
       "  Using 100026 / 800214 points for tuning the step size."
      ]
     },
     "metadata": {},
     "output_type": "display_data"
    },
    {
     "data": {
      "text/html": [
       "<pre>+---------+-------------------+------------------------------------------+</pre>"
      ],
      "text/plain": [
       "+---------+-------------------+------------------------------------------+"
      ]
     },
     "metadata": {},
     "output_type": "display_data"
    },
    {
     "data": {
      "text/html": [
       "<pre>| Attempt | Initial Step Size | Estimated Objective Value                |</pre>"
      ],
      "text/plain": [
       "| Attempt | Initial Step Size | Estimated Objective Value                |"
      ]
     },
     "metadata": {},
     "output_type": "display_data"
    },
    {
     "data": {
      "text/html": [
       "<pre>+---------+-------------------+------------------------------------------+</pre>"
      ],
      "text/plain": [
       "+---------+-------------------+------------------------------------------+"
      ]
     },
     "metadata": {},
     "output_type": "display_data"
    },
    {
     "data": {
      "text/html": [
       "<pre>| 0       | 0.920745          | 1.32403                                  |</pre>"
      ],
      "text/plain": [
       "| 0       | 0.920745          | 1.32403                                  |"
      ]
     },
     "metadata": {},
     "output_type": "display_data"
    },
    {
     "data": {
      "text/html": [
       "<pre>| 1       | 0.460373          | 0.78821                                  |</pre>"
      ],
      "text/plain": [
       "| 1       | 0.460373          | 0.78821                                  |"
      ]
     },
     "metadata": {},
     "output_type": "display_data"
    },
    {
     "data": {
      "text/html": [
       "<pre>| 2       | 0.230186          | 0.42411                                  |</pre>"
      ],
      "text/plain": [
       "| 2       | 0.230186          | 0.42411                                  |"
      ]
     },
     "metadata": {},
     "output_type": "display_data"
    },
    {
     "data": {
      "text/html": [
       "<pre>| 3       | 0.115093          | 0.710909                                 |</pre>"
      ],
      "text/plain": [
       "| 3       | 0.115093          | 0.710909                                 |"
      ]
     },
     "metadata": {},
     "output_type": "display_data"
    },
    {
     "data": {
      "text/html": [
       "<pre>| 4       | 0.0575466         | 1.12004                                  |</pre>"
      ],
      "text/plain": [
       "| 4       | 0.0575466         | 1.12004                                  |"
      ]
     },
     "metadata": {},
     "output_type": "display_data"
    },
    {
     "data": {
      "text/html": [
       "<pre>+---------+-------------------+------------------------------------------+</pre>"
      ],
      "text/plain": [
       "+---------+-------------------+------------------------------------------+"
      ]
     },
     "metadata": {},
     "output_type": "display_data"
    },
    {
     "data": {
      "text/html": [
       "<pre>| Final   | 0.230186          | 0.42411                                  |</pre>"
      ],
      "text/plain": [
       "| Final   | 0.230186          | 0.42411                                  |"
      ]
     },
     "metadata": {},
     "output_type": "display_data"
    },
    {
     "data": {
      "text/html": [
       "<pre>+---------+-------------------+------------------------------------------+</pre>"
      ],
      "text/plain": [
       "+---------+-------------------+------------------------------------------+"
      ]
     },
     "metadata": {},
     "output_type": "display_data"
    },
    {
     "data": {
      "text/html": [
       "<pre>Starting Optimization.</pre>"
      ],
      "text/plain": [
       "Starting Optimization."
      ]
     },
     "metadata": {},
     "output_type": "display_data"
    },
    {
     "data": {
      "text/html": [
       "<pre>+---------+--------------+-------------------+-----------------------+-------------+</pre>"
      ],
      "text/plain": [
       "+---------+--------------+-------------------+-----------------------+-------------+"
      ]
     },
     "metadata": {},
     "output_type": "display_data"
    },
    {
     "data": {
      "text/html": [
       "<pre>| Iter.   | Elapsed Time | Approx. Objective | Approx. Training RMSE | Step Size   |</pre>"
      ],
      "text/plain": [
       "| Iter.   | Elapsed Time | Approx. Objective | Approx. Training RMSE | Step Size   |"
      ]
     },
     "metadata": {},
     "output_type": "display_data"
    },
    {
     "data": {
      "text/html": [
       "<pre>+---------+--------------+-------------------+-----------------------+-------------+</pre>"
      ],
      "text/plain": [
       "+---------+--------------+-------------------+-----------------------+-------------+"
      ]
     },
     "metadata": {},
     "output_type": "display_data"
    },
    {
     "data": {
      "text/html": [
       "<pre>| Initial | 1.041ms      | 2.11003           | 1.45259               |             |</pre>"
      ],
      "text/plain": [
       "| Initial | 1.041ms      | 2.11003           | 1.45259               |             |"
      ]
     },
     "metadata": {},
     "output_type": "display_data"
    },
    {
     "data": {
      "text/html": [
       "<pre>+---------+--------------+-------------------+-----------------------+-------------+</pre>"
      ],
      "text/plain": [
       "+---------+--------------+-------------------+-----------------------+-------------+"
      ]
     },
     "metadata": {},
     "output_type": "display_data"
    },
    {
     "data": {
      "text/html": [
       "<pre>| 1       | 338.615ms    | DIVERGED          | DIVERGED              | 0.230186    |</pre>"
      ],
      "text/plain": [
       "| 1       | 338.615ms    | DIVERGED          | DIVERGED              | 0.230186    |"
      ]
     },
     "metadata": {},
     "output_type": "display_data"
    },
    {
     "data": {
      "text/html": [
       "<pre>| RESET   | 522.969ms    | 2.11003           | 1.45259               |             |</pre>"
      ],
      "text/plain": [
       "| RESET   | 522.969ms    | 2.11003           | 1.45259               |             |"
      ]
     },
     "metadata": {},
     "output_type": "display_data"
    },
    {
     "data": {
      "text/html": [
       "<pre>| 1       | 805.369ms    | DIVERGED          | DIVERGED              | 0.115093    |</pre>"
      ],
      "text/plain": [
       "| 1       | 805.369ms    | DIVERGED          | DIVERGED              | 0.115093    |"
      ]
     },
     "metadata": {},
     "output_type": "display_data"
    },
    {
     "data": {
      "text/html": [
       "<pre>| RESET   | 983.658ms    | 2.11003           | 1.45259               |             |</pre>"
      ],
      "text/plain": [
       "| RESET   | 983.658ms    | 2.11003           | 1.45259               |             |"
      ]
     },
     "metadata": {},
     "output_type": "display_data"
    },
    {
     "data": {
      "text/html": [
       "<pre>| 1       | 1.27s        | DIVERGED          | DIVERGED              | 0.0575466   |</pre>"
      ],
      "text/plain": [
       "| 1       | 1.27s        | DIVERGED          | DIVERGED              | 0.0575466   |"
      ]
     },
     "metadata": {},
     "output_type": "display_data"
    },
    {
     "data": {
      "text/html": [
       "<pre>| RESET   | 1.45s        | 2.11003           | 1.4526                |             |</pre>"
      ],
      "text/plain": [
       "| RESET   | 1.45s        | 2.11003           | 1.4526                |             |"
      ]
     },
     "metadata": {},
     "output_type": "display_data"
    },
    {
     "data": {
      "text/html": [
       "<pre>| 1       | 1.67s        | 1.99576           | 1.41267               | 0.0287733   |</pre>"
      ],
      "text/plain": [
       "| 1       | 1.67s        | 1.99576           | 1.41267               | 0.0287733   |"
      ]
     },
     "metadata": {},
     "output_type": "display_data"
    },
    {
     "data": {
      "text/html": [
       "<pre>| 2       | 1.88s        | 1.60964           | 1.2687                | 0.00871263  |</pre>"
      ],
      "text/plain": [
       "| 2       | 1.88s        | 1.60964           | 1.2687                | 0.00871263  |"
      ]
     },
     "metadata": {},
     "output_type": "display_data"
    },
    {
     "data": {
      "text/html": [
       "<pre>| 3       | 2.10s        | 1.52322           | 1.23418               | 0.00513354  |</pre>"
      ],
      "text/plain": [
       "| 3       | 2.10s        | 1.52322           | 1.23418               | 0.00513354  |"
      ]
     },
     "metadata": {},
     "output_type": "display_data"
    },
    {
     "data": {
      "text/html": [
       "<pre>| 4       | 2.32s        | 1.47821           | 1.21581               | 0.00363876  |</pre>"
      ],
      "text/plain": [
       "| 4       | 2.32s        | 1.47821           | 1.21581               | 0.00363876  |"
      ]
     },
     "metadata": {},
     "output_type": "display_data"
    },
    {
     "data": {
      "text/html": [
       "<pre>| 5       | 2.54s        | 1.44871           | 1.20362               | 0.00281817  |</pre>"
      ],
      "text/plain": [
       "| 5       | 2.54s        | 1.44871           | 1.20362               | 0.00281817  |"
      ]
     },
     "metadata": {},
     "output_type": "display_data"
    },
    {
     "data": {
      "text/html": [
       "<pre>| 6       | 2.76s        | 1.42687           | 1.19451               | 0.00229958  |</pre>"
      ],
      "text/plain": [
       "| 6       | 2.76s        | 1.42687           | 1.19451               | 0.00229958  |"
      ]
     },
     "metadata": {},
     "output_type": "display_data"
    },
    {
     "data": {
      "text/html": [
       "<pre>| 7       | 2.97s        | 1.40979           | 1.18735               | 0.00194219  |</pre>"
      ],
      "text/plain": [
       "| 7       | 2.97s        | 1.40979           | 1.18735               | 0.00194219  |"
      ]
     },
     "metadata": {},
     "output_type": "display_data"
    },
    {
     "data": {
      "text/html": [
       "<pre>| 11      | 3.71s        | 1.3649            | 1.16829               | 0.00119765  |</pre>"
      ],
      "text/plain": [
       "| 11      | 3.71s        | 1.3649            | 1.16829               | 0.00119765  |"
      ]
     },
     "metadata": {},
     "output_type": "display_data"
    },
    {
     "data": {
      "text/html": [
       "<pre>| 12      | 3.91s        | 1.35695           | 1.16488               | 0.00109291  |</pre>"
      ],
      "text/plain": [
       "| 12      | 3.91s        | 1.35695           | 1.16488               | 0.00109291  |"
      ]
     },
     "metadata": {},
     "output_type": "display_data"
    },
    {
     "data": {
      "text/html": [
       "<pre>| 17      | 4.81s        | 1.32696           | 1.15194               | 0.0007604   |</pre>"
      ],
      "text/plain": [
       "| 17      | 4.81s        | 1.32696           | 1.15194               | 0.0007604   |"
      ]
     },
     "metadata": {},
     "output_type": "display_data"
    },
    {
     "data": {
      "text/html": [
       "<pre>| 22      | 5.70s        | 1.30632           | 1.14294               | 0.000583021 |</pre>"
      ],
      "text/plain": [
       "| 22      | 5.70s        | 1.30632           | 1.14294               | 0.000583021 |"
      ]
     },
     "metadata": {},
     "output_type": "display_data"
    },
    {
     "data": {
      "text/html": [
       "<pre>| 27      | 6.60s        | 1.29069           | 1.13608               | 0.000472744 |</pre>"
      ],
      "text/plain": [
       "| 27      | 6.60s        | 1.29069           | 1.13608               | 0.000472744 |"
      ]
     },
     "metadata": {},
     "output_type": "display_data"
    },
    {
     "data": {
      "text/html": [
       "<pre>| 32      | 7.50s        | 1.27819           | 1.13057               | 0.000397548 |</pre>"
      ],
      "text/plain": [
       "| 32      | 7.50s        | 1.27819           | 1.13057               | 0.000397548 |"
      ]
     },
     "metadata": {},
     "output_type": "display_data"
    },
    {
     "data": {
      "text/html": [
       "<pre>| 37      | 8.39s        | 1.26781           | 1.12597               | 0.000342991 |</pre>"
      ],
      "text/plain": [
       "| 37      | 8.39s        | 1.26781           | 1.12597               | 0.000342991 |"
      ]
     },
     "metadata": {},
     "output_type": "display_data"
    },
    {
     "data": {
      "text/html": [
       "<pre>| 42      | 9.24s        | 1.25896           | 1.12203               | 0.000301602 |</pre>"
      ],
      "text/plain": [
       "| 42      | 9.24s        | 1.25896           | 1.12203               | 0.000301602 |"
      ]
     },
     "metadata": {},
     "output_type": "display_data"
    },
    {
     "data": {
      "text/html": [
       "<pre>| 47      | 10.14s       | 1.25127           | 1.1186                | 0.000269125 |</pre>"
      ],
      "text/plain": [
       "| 47      | 10.14s       | 1.25127           | 1.1186                | 0.000269125 |"
      ]
     },
     "metadata": {},
     "output_type": "display_data"
    },
    {
     "data": {
      "text/html": [
       "<pre>+---------+--------------+-------------------+-----------------------+-------------+</pre>"
      ],
      "text/plain": [
       "+---------+--------------+-------------------+-----------------------+-------------+"
      ]
     },
     "metadata": {},
     "output_type": "display_data"
    },
    {
     "data": {
      "text/html": [
       "<pre>Optimization Complete: Maximum number of passes through the data reached.</pre>"
      ],
      "text/plain": [
       "Optimization Complete: Maximum number of passes through the data reached."
      ]
     },
     "metadata": {},
     "output_type": "display_data"
    },
    {
     "data": {
      "text/html": [
       "<pre>Computing final objective value and training RMSE.</pre>"
      ],
      "text/plain": [
       "Computing final objective value and training RMSE."
      ]
     },
     "metadata": {},
     "output_type": "display_data"
    },
    {
     "data": {
      "text/html": [
       "<pre>       Final objective value: 1.24518</pre>"
      ],
      "text/plain": [
       "       Final objective value: 1.24518"
      ]
     },
     "metadata": {},
     "output_type": "display_data"
    },
    {
     "data": {
      "text/html": [
       "<pre>       Final training RMSE: 1.11587</pre>"
      ],
      "text/plain": [
       "       Final training RMSE: 1.11587"
      ]
     },
     "metadata": {},
     "output_type": "display_data"
    },
    {
     "data": {
      "text/html": [
       "<pre>Recsys training: model = factorization_recommender</pre>"
      ],
      "text/plain": [
       "Recsys training: model = factorization_recommender"
      ]
     },
     "metadata": {},
     "output_type": "display_data"
    },
    {
     "data": {
      "text/html": [
       "<pre>Preparing data set.</pre>"
      ],
      "text/plain": [
       "Preparing data set."
      ]
     },
     "metadata": {},
     "output_type": "display_data"
    },
    {
     "data": {
      "text/html": [
       "<pre>    Data has 800214 observations with 450240 users and 154891 items.</pre>"
      ],
      "text/plain": [
       "    Data has 800214 observations with 450240 users and 154891 items."
      ]
     },
     "metadata": {},
     "output_type": "display_data"
    },
    {
     "data": {
      "text/html": [
       "<pre>    Data prepared in: 1.49587s</pre>"
      ],
      "text/plain": [
       "    Data prepared in: 1.49587s"
      ]
     },
     "metadata": {},
     "output_type": "display_data"
    },
    {
     "data": {
      "text/html": [
       "<pre>Training factorization_recommender for recommendations.</pre>"
      ],
      "text/plain": [
       "Training factorization_recommender for recommendations."
      ]
     },
     "metadata": {},
     "output_type": "display_data"
    },
    {
     "data": {
      "text/html": [
       "<pre>+--------------------------------+--------------------------------------------------+----------+</pre>"
      ],
      "text/plain": [
       "+--------------------------------+--------------------------------------------------+----------+"
      ]
     },
     "metadata": {},
     "output_type": "display_data"
    },
    {
     "data": {
      "text/html": [
       "<pre>| Parameter                      | Description                                      | Value    |</pre>"
      ],
      "text/plain": [
       "| Parameter                      | Description                                      | Value    |"
      ]
     },
     "metadata": {},
     "output_type": "display_data"
    },
    {
     "data": {
      "text/html": [
       "<pre>+--------------------------------+--------------------------------------------------+----------+</pre>"
      ],
      "text/plain": [
       "+--------------------------------+--------------------------------------------------+----------+"
      ]
     },
     "metadata": {},
     "output_type": "display_data"
    },
    {
     "data": {
      "text/html": [
       "<pre>| num_factors                    | Factor Dimension                                 | 5        |</pre>"
      ],
      "text/plain": [
       "| num_factors                    | Factor Dimension                                 | 5        |"
      ]
     },
     "metadata": {},
     "output_type": "display_data"
    },
    {
     "data": {
      "text/html": [
       "<pre>| regularization                 | L2 Regularization on Factors                     | 1e-05    |</pre>"
      ],
      "text/plain": [
       "| regularization                 | L2 Regularization on Factors                     | 1e-05    |"
      ]
     },
     "metadata": {},
     "output_type": "display_data"
    },
    {
     "data": {
      "text/html": [
       "<pre>| solver                         | Solver used for training                         | sgd      |</pre>"
      ],
      "text/plain": [
       "| solver                         | Solver used for training                         | sgd      |"
      ]
     },
     "metadata": {},
     "output_type": "display_data"
    },
    {
     "data": {
      "text/html": [
       "<pre>| linear_regularization          | L2 Regularization on Linear Coefficients         | 1e-10    |</pre>"
      ],
      "text/plain": [
       "| linear_regularization          | L2 Regularization on Linear Coefficients         | 1e-10    |"
      ]
     },
     "metadata": {},
     "output_type": "display_data"
    },
    {
     "data": {
      "text/html": [
       "<pre>| max_iterations                 | Maximum Number of Iterations                     | 50       |</pre>"
      ],
      "text/plain": [
       "| max_iterations                 | Maximum Number of Iterations                     | 50       |"
      ]
     },
     "metadata": {},
     "output_type": "display_data"
    },
    {
     "data": {
      "text/html": [
       "<pre>+--------------------------------+--------------------------------------------------+----------+</pre>"
      ],
      "text/plain": [
       "+--------------------------------+--------------------------------------------------+----------+"
      ]
     },
     "metadata": {},
     "output_type": "display_data"
    },
    {
     "data": {
      "text/html": [
       "<pre>  Optimizing model using SGD; tuning step size.</pre>"
      ],
      "text/plain": [
       "  Optimizing model using SGD; tuning step size."
      ]
     },
     "metadata": {},
     "output_type": "display_data"
    },
    {
     "data": {
      "text/html": [
       "<pre>  Using 100026 / 800214 points for tuning the step size.</pre>"
      ],
      "text/plain": [
       "  Using 100026 / 800214 points for tuning the step size."
      ]
     },
     "metadata": {},
     "output_type": "display_data"
    },
    {
     "data": {
      "text/html": [
       "<pre>+---------+-------------------+------------------------------------------+</pre>"
      ],
      "text/plain": [
       "+---------+-------------------+------------------------------------------+"
      ]
     },
     "metadata": {},
     "output_type": "display_data"
    },
    {
     "data": {
      "text/html": [
       "<pre>| Attempt | Initial Step Size | Estimated Objective Value                |</pre>"
      ],
      "text/plain": [
       "| Attempt | Initial Step Size | Estimated Objective Value                |"
      ]
     },
     "metadata": {},
     "output_type": "display_data"
    },
    {
     "data": {
      "text/html": [
       "<pre>+---------+-------------------+------------------------------------------+</pre>"
      ],
      "text/plain": [
       "+---------+-------------------+------------------------------------------+"
      ]
     },
     "metadata": {},
     "output_type": "display_data"
    },
    {
     "data": {
      "text/html": [
       "<pre>| 0       | 9.20745           | 0.265401                                 |</pre>"
      ],
      "text/plain": [
       "| 0       | 9.20745           | 0.265401                                 |"
      ]
     },
     "metadata": {},
     "output_type": "display_data"
    },
    {
     "data": {
      "text/html": [
       "<pre>| 1       | 4.60373           | 0.272201                                 |</pre>"
      ],
      "text/plain": [
       "| 1       | 4.60373           | 0.272201                                 |"
      ]
     },
     "metadata": {},
     "output_type": "display_data"
    },
    {
     "data": {
      "text/html": [
       "<pre>| 2       | 2.30186           | 0.246778                                 |</pre>"
      ],
      "text/plain": [
       "| 2       | 2.30186           | 0.246778                                 |"
      ]
     },
     "metadata": {},
     "output_type": "display_data"
    },
    {
     "data": {
      "text/html": [
       "<pre>| 3       | 1.15093           | 0.196938                                 |</pre>"
      ],
      "text/plain": [
       "| 3       | 1.15093           | 0.196938                                 |"
      ]
     },
     "metadata": {},
     "output_type": "display_data"
    },
    {
     "data": {
      "text/html": [
       "<pre>| 4       | 0.575466          | 0.185535                                 |</pre>"
      ],
      "text/plain": [
       "| 4       | 0.575466          | 0.185535                                 |"
      ]
     },
     "metadata": {},
     "output_type": "display_data"
    },
    {
     "data": {
      "text/html": [
       "<pre>| 5       | 0.287733          | 0.173423                                 |</pre>"
      ],
      "text/plain": [
       "| 5       | 0.287733          | 0.173423                                 |"
      ]
     },
     "metadata": {},
     "output_type": "display_data"
    },
    {
     "data": {
      "text/html": [
       "<pre>| 6       | 0.143866          | 0.282689                                 |</pre>"
      ],
      "text/plain": [
       "| 6       | 0.143866          | 0.282689                                 |"
      ]
     },
     "metadata": {},
     "output_type": "display_data"
    },
    {
     "data": {
      "text/html": [
       "<pre>| 7       | 0.0719332         | 0.571343                                 |</pre>"
      ],
      "text/plain": [
       "| 7       | 0.0719332         | 0.571343                                 |"
      ]
     },
     "metadata": {},
     "output_type": "display_data"
    },
    {
     "data": {
      "text/html": [
       "<pre>+---------+-------------------+------------------------------------------+</pre>"
      ],
      "text/plain": [
       "+---------+-------------------+------------------------------------------+"
      ]
     },
     "metadata": {},
     "output_type": "display_data"
    },
    {
     "data": {
      "text/html": [
       "<pre>| Final   | 0.287733          | 0.173423                                 |</pre>"
      ],
      "text/plain": [
       "| Final   | 0.287733          | 0.173423                                 |"
      ]
     },
     "metadata": {},
     "output_type": "display_data"
    },
    {
     "data": {
      "text/html": [
       "<pre>+---------+-------------------+------------------------------------------+</pre>"
      ],
      "text/plain": [
       "+---------+-------------------+------------------------------------------+"
      ]
     },
     "metadata": {},
     "output_type": "display_data"
    },
    {
     "data": {
      "text/html": [
       "<pre>Starting Optimization.</pre>"
      ],
      "text/plain": [
       "Starting Optimization."
      ]
     },
     "metadata": {},
     "output_type": "display_data"
    },
    {
     "data": {
      "text/html": [
       "<pre>+---------+--------------+-------------------+-----------------------+-------------+</pre>"
      ],
      "text/plain": [
       "+---------+--------------+-------------------+-----------------------+-------------+"
      ]
     },
     "metadata": {},
     "output_type": "display_data"
    },
    {
     "data": {
      "text/html": [
       "<pre>| Iter.   | Elapsed Time | Approx. Objective | Approx. Training RMSE | Step Size   |</pre>"
      ],
      "text/plain": [
       "| Iter.   | Elapsed Time | Approx. Objective | Approx. Training RMSE | Step Size   |"
      ]
     },
     "metadata": {},
     "output_type": "display_data"
    },
    {
     "data": {
      "text/html": [
       "<pre>+---------+--------------+-------------------+-----------------------+-------------+</pre>"
      ],
      "text/plain": [
       "+---------+--------------+-------------------+-----------------------+-------------+"
      ]
     },
     "metadata": {},
     "output_type": "display_data"
    },
    {
     "data": {
      "text/html": [
       "<pre>| Initial | 85us         | 2.11003           | 1.45259               |             |</pre>"
      ],
      "text/plain": [
       "| Initial | 85us         | 2.11003           | 1.45259               |             |"
      ]
     },
     "metadata": {},
     "output_type": "display_data"
    },
    {
     "data": {
      "text/html": [
       "<pre>+---------+--------------+-------------------+-----------------------+-------------+</pre>"
      ],
      "text/plain": [
       "+---------+--------------+-------------------+-----------------------+-------------+"
      ]
     },
     "metadata": {},
     "output_type": "display_data"
    },
    {
     "data": {
      "text/html": [
       "<pre>| 1       | 321.594ms    | DIVERGED          | DIVERGED              | 0.287733    |</pre>"
      ],
      "text/plain": [
       "| 1       | 321.594ms    | DIVERGED          | DIVERGED              | 0.287733    |"
      ]
     },
     "metadata": {},
     "output_type": "display_data"
    },
    {
     "data": {
      "text/html": [
       "<pre>| RESET   | 494.887ms    | 2.11003           | 1.45259               |             |</pre>"
      ],
      "text/plain": [
       "| RESET   | 494.887ms    | 2.11003           | 1.45259               |             |"
      ]
     },
     "metadata": {},
     "output_type": "display_data"
    },
    {
     "data": {
      "text/html": [
       "<pre>| 1       | 724.93ms     | 2.68627           | 1.46555               | 0.143866    |</pre>"
      ],
      "text/plain": [
       "| 1       | 724.93ms     | 2.68627           | 1.46555               | 0.143866    |"
      ]
     },
     "metadata": {},
     "output_type": "display_data"
    },
    {
     "data": {
      "text/html": [
       "<pre>| 2       | 938.117ms    | 1.31618           | 1.03422               | 0.0668761   |</pre>"
      ],
      "text/plain": [
       "| 2       | 938.117ms    | 1.31618           | 1.03422               | 0.0668761   |"
      ]
     },
     "metadata": {},
     "output_type": "display_data"
    },
    {
     "data": {
      "text/html": [
       "<pre>| 3       | 1.16s        | 0.994021          | 0.868403              | 0.0435632   |</pre>"
      ],
      "text/plain": [
       "| 3       | 1.16s        | 0.994021          | 0.868403              | 0.0435632   |"
      ]
     },
     "metadata": {},
     "output_type": "display_data"
    },
    {
     "data": {
      "text/html": [
       "<pre>| 4       | 1.39s        | 0.8539            | 0.784118              | 0.0309862   |</pre>"
      ],
      "text/plain": [
       "| 4       | 1.39s        | 0.8539            | 0.784118              | 0.0309862   |"
      ]
     },
     "metadata": {},
     "output_type": "display_data"
    },
    {
     "data": {
      "text/html": [
       "<pre>| 5       | 1.61s        | 0.791064          | 0.739881              | 0.0248295   |</pre>"
      ],
      "text/plain": [
       "| 5       | 1.61s        | 0.791064          | 0.739881              | 0.0248295   |"
      ]
     },
     "metadata": {},
     "output_type": "display_data"
    },
    {
     "data": {
      "text/html": [
       "<pre>| 6       | 1.84s        | 0.75036           | 0.709505              | 0.0207139   |</pre>"
      ],
      "text/plain": [
       "| 6       | 1.84s        | 0.75036           | 0.709505              | 0.0207139   |"
      ]
     },
     "metadata": {},
     "output_type": "display_data"
    },
    {
     "data": {
      "text/html": [
       "<pre>| 9       | 2.37s        | 0.690039          | 0.659567              | 0.0138345   |</pre>"
      ],
      "text/plain": [
       "| 9       | 2.37s        | 0.690039          | 0.659567              | 0.0138345   |"
      ]
     },
     "metadata": {},
     "output_type": "display_data"
    },
    {
     "data": {
      "text/html": [
       "<pre>| 11      | 2.77s        | 0.66857           | 0.640522              | 0.0113266   |</pre>"
      ],
      "text/plain": [
       "| 11      | 2.77s        | 0.66857           | 0.640522              | 0.0113266   |"
      ]
     },
     "metadata": {},
     "output_type": "display_data"
    },
    {
     "data": {
      "text/html": [
       "<pre>| 14      | 3.35s        | 0.646887          | 0.620532              | 0.00890521  |</pre>"
      ],
      "text/plain": [
       "| 14      | 3.35s        | 0.646887          | 0.620532              | 0.00890521  |"
      ]
     },
     "metadata": {},
     "output_type": "display_data"
    },
    {
     "data": {
      "text/html": [
       "<pre>| 19      | 4.25s        | 0.625217          | 0.600088              | 0.00656579  |</pre>"
      ],
      "text/plain": [
       "| 19      | 4.25s        | 0.625217          | 0.600088              | 0.00656579  |"
      ]
     },
     "metadata": {},
     "output_type": "display_data"
    },
    {
     "data": {
      "text/html": [
       "<pre>| 24      | 5.16s        | 0.611267          | 0.586857              | 0.0051998   |</pre>"
      ],
      "text/plain": [
       "| 24      | 5.16s        | 0.611267          | 0.586857              | 0.0051998   |"
      ]
     },
     "metadata": {},
     "output_type": "display_data"
    },
    {
     "data": {
      "text/html": [
       "<pre>| 29      | 6.05s        | 0.601314          | 0.577523              | 0.0043043   |</pre>"
      ],
      "text/plain": [
       "| 29      | 6.05s        | 0.601314          | 0.577523              | 0.0043043   |"
      ]
     },
     "metadata": {},
     "output_type": "display_data"
    },
    {
     "data": {
      "text/html": [
       "<pre>| 34      | 6.95s        | 0.594003          | 0.570571              | 0.00367193  |</pre>"
      ],
      "text/plain": [
       "| 34      | 6.95s        | 0.594003          | 0.570571              | 0.00367193  |"
      ]
     },
     "metadata": {},
     "output_type": "display_data"
    },
    {
     "data": {
      "text/html": [
       "<pre>| 39      | 7.85s        | 0.588064          | 0.565012              | 0.00320156  |</pre>"
      ],
      "text/plain": [
       "| 39      | 7.85s        | 0.588064          | 0.565012              | 0.00320156  |"
      ]
     },
     "metadata": {},
     "output_type": "display_data"
    },
    {
     "data": {
      "text/html": [
       "<pre>| 44      | 8.72s        | 0.583057          | 0.560359              | 0.00283802  |</pre>"
      ],
      "text/plain": [
       "| 44      | 8.72s        | 0.583057          | 0.560359              | 0.00283802  |"
      ]
     },
     "metadata": {},
     "output_type": "display_data"
    },
    {
     "data": {
      "text/html": [
       "<pre>| 49      | 9.61s        | 0.578941          | 0.556541              | 0.00254862  |</pre>"
      ],
      "text/plain": [
       "| 49      | 9.61s        | 0.578941          | 0.556541              | 0.00254862  |"
      ]
     },
     "metadata": {},
     "output_type": "display_data"
    },
    {
     "data": {
      "text/html": [
       "<pre>+---------+--------------+-------------------+-----------------------+-------------+</pre>"
      ],
      "text/plain": [
       "+---------+--------------+-------------------+-----------------------+-------------+"
      ]
     },
     "metadata": {},
     "output_type": "display_data"
    },
    {
     "data": {
      "text/html": [
       "<pre>Optimization Complete: Maximum number of passes through the data reached.</pre>"
      ],
      "text/plain": [
       "Optimization Complete: Maximum number of passes through the data reached."
      ]
     },
     "metadata": {},
     "output_type": "display_data"
    },
    {
     "data": {
      "text/html": [
       "<pre>Computing final objective value and training RMSE.</pre>"
      ],
      "text/plain": [
       "Computing final objective value and training RMSE."
      ]
     },
     "metadata": {},
     "output_type": "display_data"
    },
    {
     "data": {
      "text/html": [
       "<pre>       Final objective value: 0.578701</pre>"
      ],
      "text/plain": [
       "       Final objective value: 0.578701"
      ]
     },
     "metadata": {},
     "output_type": "display_data"
    },
    {
     "data": {
      "text/html": [
       "<pre>       Final training RMSE: 0.556306</pre>"
      ],
      "text/plain": [
       "       Final training RMSE: 0.556306"
      ]
     },
     "metadata": {},
     "output_type": "display_data"
    },
    {
     "data": {
      "text/html": [
       "<pre>Recsys training: model = factorization_recommender</pre>"
      ],
      "text/plain": [
       "Recsys training: model = factorization_recommender"
      ]
     },
     "metadata": {},
     "output_type": "display_data"
    },
    {
     "data": {
      "text/html": [
       "<pre>Preparing data set.</pre>"
      ],
      "text/plain": [
       "Preparing data set."
      ]
     },
     "metadata": {},
     "output_type": "display_data"
    },
    {
     "data": {
      "text/html": [
       "<pre>    Data has 800214 observations with 450240 users and 154891 items.</pre>"
      ],
      "text/plain": [
       "    Data has 800214 observations with 450240 users and 154891 items."
      ]
     },
     "metadata": {},
     "output_type": "display_data"
    },
    {
     "data": {
      "text/html": [
       "<pre>    Data prepared in: 1.59893s</pre>"
      ],
      "text/plain": [
       "    Data prepared in: 1.59893s"
      ]
     },
     "metadata": {},
     "output_type": "display_data"
    },
    {
     "data": {
      "text/html": [
       "<pre>Training factorization_recommender for recommendations.</pre>"
      ],
      "text/plain": [
       "Training factorization_recommender for recommendations."
      ]
     },
     "metadata": {},
     "output_type": "display_data"
    },
    {
     "data": {
      "text/html": [
       "<pre>+--------------------------------+--------------------------------------------------+----------+</pre>"
      ],
      "text/plain": [
       "+--------------------------------+--------------------------------------------------+----------+"
      ]
     },
     "metadata": {},
     "output_type": "display_data"
    },
    {
     "data": {
      "text/html": [
       "<pre>| Parameter                      | Description                                      | Value    |</pre>"
      ],
      "text/plain": [
       "| Parameter                      | Description                                      | Value    |"
      ]
     },
     "metadata": {},
     "output_type": "display_data"
    },
    {
     "data": {
      "text/html": [
       "<pre>+--------------------------------+--------------------------------------------------+----------+</pre>"
      ],
      "text/plain": [
       "+--------------------------------+--------------------------------------------------+----------+"
      ]
     },
     "metadata": {},
     "output_type": "display_data"
    },
    {
     "data": {
      "text/html": [
       "<pre>| num_factors                    | Factor Dimension                                 | 5        |</pre>"
      ],
      "text/plain": [
       "| num_factors                    | Factor Dimension                                 | 5        |"
      ]
     },
     "metadata": {},
     "output_type": "display_data"
    },
    {
     "data": {
      "text/html": [
       "<pre>| regularization                 | L2 Regularization on Factors                     | 1e-06    |</pre>"
      ],
      "text/plain": [
       "| regularization                 | L2 Regularization on Factors                     | 1e-06    |"
      ]
     },
     "metadata": {},
     "output_type": "display_data"
    },
    {
     "data": {
      "text/html": [
       "<pre>| solver                         | Solver used for training                         | sgd      |</pre>"
      ],
      "text/plain": [
       "| solver                         | Solver used for training                         | sgd      |"
      ]
     },
     "metadata": {},
     "output_type": "display_data"
    },
    {
     "data": {
      "text/html": [
       "<pre>| linear_regularization          | L2 Regularization on Linear Coefficients         | 1e-10    |</pre>"
      ],
      "text/plain": [
       "| linear_regularization          | L2 Regularization on Linear Coefficients         | 1e-10    |"
      ]
     },
     "metadata": {},
     "output_type": "display_data"
    },
    {
     "data": {
      "text/html": [
       "<pre>| max_iterations                 | Maximum Number of Iterations                     | 50       |</pre>"
      ],
      "text/plain": [
       "| max_iterations                 | Maximum Number of Iterations                     | 50       |"
      ]
     },
     "metadata": {},
     "output_type": "display_data"
    },
    {
     "data": {
      "text/html": [
       "<pre>+--------------------------------+--------------------------------------------------+----------+</pre>"
      ],
      "text/plain": [
       "+--------------------------------+--------------------------------------------------+----------+"
      ]
     },
     "metadata": {},
     "output_type": "display_data"
    },
    {
     "data": {
      "text/html": [
       "<pre>  Optimizing model using SGD; tuning step size.</pre>"
      ],
      "text/plain": [
       "  Optimizing model using SGD; tuning step size."
      ]
     },
     "metadata": {},
     "output_type": "display_data"
    },
    {
     "data": {
      "text/html": [
       "<pre>  Using 100026 / 800214 points for tuning the step size.</pre>"
      ],
      "text/plain": [
       "  Using 100026 / 800214 points for tuning the step size."
      ]
     },
     "metadata": {},
     "output_type": "display_data"
    },
    {
     "data": {
      "text/html": [
       "<pre>+---------+-------------------+------------------------------------------+</pre>"
      ],
      "text/plain": [
       "+---------+-------------------+------------------------------------------+"
      ]
     },
     "metadata": {},
     "output_type": "display_data"
    },
    {
     "data": {
      "text/html": [
       "<pre>| Attempt | Initial Step Size | Estimated Objective Value                |</pre>"
      ],
      "text/plain": [
       "| Attempt | Initial Step Size | Estimated Objective Value                |"
      ]
     },
     "metadata": {},
     "output_type": "display_data"
    },
    {
     "data": {
      "text/html": [
       "<pre>+---------+-------------------+------------------------------------------+</pre>"
      ],
      "text/plain": [
       "+---------+-------------------+------------------------------------------+"
      ]
     },
     "metadata": {},
     "output_type": "display_data"
    },
    {
     "data": {
      "text/html": [
       "<pre>| 0       | 25                | No Decrease (4.64725 >= 2.10715)         |</pre>"
      ],
      "text/plain": [
       "| 0       | 25                | No Decrease (4.64725 >= 2.10715)         |"
      ]
     },
     "metadata": {},
     "output_type": "display_data"
    },
    {
     "data": {
      "text/html": [
       "<pre>| 1       | 6.25              | No Decrease (3.0025 >= 2.10715)          |</pre>"
      ],
      "text/plain": [
       "| 1       | 6.25              | No Decrease (3.0025 >= 2.10715)          |"
      ]
     },
     "metadata": {},
     "output_type": "display_data"
    },
    {
     "data": {
      "text/html": [
       "<pre>| 2       | 1.5625            | 0.510149                                 |</pre>"
      ],
      "text/plain": [
       "| 2       | 1.5625            | 0.510149                                 |"
      ]
     },
     "metadata": {},
     "output_type": "display_data"
    },
    {
     "data": {
      "text/html": [
       "<pre>| 3       | 0.78125           | 0.0513594                                |</pre>"
      ],
      "text/plain": [
       "| 3       | 0.78125           | 0.0513594                                |"
      ]
     },
     "metadata": {},
     "output_type": "display_data"
    },
    {
     "data": {
      "text/html": [
       "<pre>| 4       | 0.390625          | 0.0489969                                |</pre>"
      ],
      "text/plain": [
       "| 4       | 0.390625          | 0.0489969                                |"
      ]
     },
     "metadata": {},
     "output_type": "display_data"
    },
    {
     "data": {
      "text/html": [
       "<pre>| 5       | 0.195312          | 0.120509                                 |</pre>"
      ],
      "text/plain": [
       "| 5       | 0.195312          | 0.120509                                 |"
      ]
     },
     "metadata": {},
     "output_type": "display_data"
    },
    {
     "data": {
      "text/html": [
       "<pre>+---------+-------------------+------------------------------------------+</pre>"
      ],
      "text/plain": [
       "+---------+-------------------+------------------------------------------+"
      ]
     },
     "metadata": {},
     "output_type": "display_data"
    },
    {
     "data": {
      "text/html": [
       "<pre>| Final   | 0.390625          | 0.0489969                                |</pre>"
      ],
      "text/plain": [
       "| Final   | 0.390625          | 0.0489969                                |"
      ]
     },
     "metadata": {},
     "output_type": "display_data"
    },
    {
     "data": {
      "text/html": [
       "<pre>+---------+-------------------+------------------------------------------+</pre>"
      ],
      "text/plain": [
       "+---------+-------------------+------------------------------------------+"
      ]
     },
     "metadata": {},
     "output_type": "display_data"
    },
    {
     "data": {
      "text/html": [
       "<pre>Starting Optimization.</pre>"
      ],
      "text/plain": [
       "Starting Optimization."
      ]
     },
     "metadata": {},
     "output_type": "display_data"
    },
    {
     "data": {
      "text/html": [
       "<pre>+---------+--------------+-------------------+-----------------------+-------------+</pre>"
      ],
      "text/plain": [
       "+---------+--------------+-------------------+-----------------------+-------------+"
      ]
     },
     "metadata": {},
     "output_type": "display_data"
    },
    {
     "data": {
      "text/html": [
       "<pre>| Iter.   | Elapsed Time | Approx. Objective | Approx. Training RMSE | Step Size   |</pre>"
      ],
      "text/plain": [
       "| Iter.   | Elapsed Time | Approx. Objective | Approx. Training RMSE | Step Size   |"
      ]
     },
     "metadata": {},
     "output_type": "display_data"
    },
    {
     "data": {
      "text/html": [
       "<pre>+---------+--------------+-------------------+-----------------------+-------------+</pre>"
      ],
      "text/plain": [
       "+---------+--------------+-------------------+-----------------------+-------------+"
      ]
     },
     "metadata": {},
     "output_type": "display_data"
    },
    {
     "data": {
      "text/html": [
       "<pre>| Initial | 70us         | 2.11003           | 1.45259               |             |</pre>"
      ],
      "text/plain": [
       "| Initial | 70us         | 2.11003           | 1.45259               |             |"
      ]
     },
     "metadata": {},
     "output_type": "display_data"
    },
    {
     "data": {
      "text/html": [
       "<pre>+---------+--------------+-------------------+-----------------------+-------------+</pre>"
      ],
      "text/plain": [
       "+---------+--------------+-------------------+-----------------------+-------------+"
      ]
     },
     "metadata": {},
     "output_type": "display_data"
    },
    {
     "data": {
      "text/html": [
       "<pre>| 1       | 268.147ms    | 3.82078           | 1.76108               | 0.390625    |</pre>"
      ],
      "text/plain": [
       "| 1       | 268.147ms    | 3.82078           | 1.76108               | 0.390625    |"
      ]
     },
     "metadata": {},
     "output_type": "display_data"
    },
    {
     "data": {
      "text/html": [
       "<pre>| 2       | 478.446ms    | 3.72881           | 1.71666               | 0.232267    |</pre>"
      ],
      "text/plain": [
       "| 2       | 478.446ms    | 3.72881           | 1.71666               | 0.232267    |"
      ]
     },
     "metadata": {},
     "output_type": "display_data"
    },
    {
     "data": {
      "text/html": [
       "<pre>| 3       | 686.501ms    | 2.60621           | 1.41806               | 0.171364    |</pre>"
      ],
      "text/plain": [
       "| 3       | 686.501ms    | 2.60621           | 1.41806               | 0.171364    |"
      ]
     },
     "metadata": {},
     "output_type": "display_data"
    },
    {
     "data": {
      "text/html": [
       "<pre>| 4       | 894.923ms    | 1.46793           | 1.01277               | 0.116134    |</pre>"
      ],
      "text/plain": [
       "| 4       | 894.923ms    | 1.46793           | 1.01277               | 0.116134    |"
      ]
     },
     "metadata": {},
     "output_type": "display_data"
    },
    {
     "data": {
      "text/html": [
       "<pre>| 5       | 1.10s        | 0.852512          | 0.678424              | 0.098237    |</pre>"
      ],
      "text/plain": [
       "| 5       | 1.10s        | 0.852512          | 0.678424              | 0.098237    |"
      ]
     },
     "metadata": {},
     "output_type": "display_data"
    },
    {
     "data": {
      "text/html": [
       "<pre>| 6       | 1.34s        | 0.609002          | 0.493504              | 0.0856819   |</pre>"
      ],
      "text/plain": [
       "| 6       | 1.34s        | 0.609002          | 0.493504              | 0.0856819   |"
      ]
     },
     "metadata": {},
     "output_type": "display_data"
    },
    {
     "data": {
      "text/html": [
       "<pre>| 10      | 2.07s        | 0.361176          | 0.243468              | 0.0584121   |</pre>"
      ],
      "text/plain": [
       "| 10      | 2.07s        | 0.361176          | 0.243468              | 0.0584121   |"
      ]
     },
     "metadata": {},
     "output_type": "display_data"
    },
    {
     "data": {
      "text/html": [
       "<pre>| 11      | 2.28s        | 0.340415          | 0.22112               | 0.0543824   |</pre>"
      ],
      "text/plain": [
       "| 11      | 2.28s        | 0.340415          | 0.22112               | 0.0543824   |"
      ]
     },
     "metadata": {},
     "output_type": "display_data"
    },
    {
     "data": {
      "text/html": [
       "<pre>| 15      | 3.03s        | 0.290356          | 0.172207              | 0.0430957   |</pre>"
      ],
      "text/plain": [
       "| 15      | 3.03s        | 0.290356          | 0.172207              | 0.0430957   |"
      ]
     },
     "metadata": {},
     "output_type": "display_data"
    },
    {
     "data": {
      "text/html": [
       "<pre>| 20      | 3.91s        | 0.257917          | 0.146575              | 0.034732    |</pre>"
      ],
      "text/plain": [
       "| 20      | 3.91s        | 0.257917          | 0.146575              | 0.034732    |"
      ]
     },
     "metadata": {},
     "output_type": "display_data"
    },
    {
     "data": {
      "text/html": [
       "<pre>| 25      | 4.81s        | 0.238345          | 0.133789              | 0.0293797   |</pre>"
      ],
      "text/plain": [
       "| 25      | 4.81s        | 0.238345          | 0.133789              | 0.0293797   |"
      ]
     },
     "metadata": {},
     "output_type": "display_data"
    },
    {
     "data": {
      "text/html": [
       "<pre>| 30      | 5.70s        | 0.22504           | 0.126079              | 0.0256249   |</pre>"
      ],
      "text/plain": [
       "| 30      | 5.70s        | 0.22504           | 0.126079              | 0.0256249   |"
      ]
     },
     "metadata": {},
     "output_type": "display_data"
    },
    {
     "data": {
      "text/html": [
       "<pre>| 35      | 6.58s        | 0.215291          | 0.121102              | 0.0228271   |</pre>"
      ],
      "text/plain": [
       "| 35      | 6.58s        | 0.215291          | 0.121102              | 0.0228271   |"
      ]
     },
     "metadata": {},
     "output_type": "display_data"
    },
    {
     "data": {
      "text/html": [
       "<pre>| 40      | 7.46s        | 0.207749          | 0.11739               | 0.0206518   |</pre>"
      ],
      "text/plain": [
       "| 40      | 7.46s        | 0.207749          | 0.11739               | 0.0206518   |"
      ]
     },
     "metadata": {},
     "output_type": "display_data"
    },
    {
     "data": {
      "text/html": [
       "<pre>| 45      | 8.36s        | 0.201799          | 0.114547              | 0.0189057   |</pre>"
      ],
      "text/plain": [
       "| 45      | 8.36s        | 0.201799          | 0.114547              | 0.0189057   |"
      ]
     },
     "metadata": {},
     "output_type": "display_data"
    },
    {
     "data": {
      "text/html": [
       "<pre>| 50      | 9.22s        | 0.19691           | 0.112396              | 0.0174693   |</pre>"
      ],
      "text/plain": [
       "| 50      | 9.22s        | 0.19691           | 0.112396              | 0.0174693   |"
      ]
     },
     "metadata": {},
     "output_type": "display_data"
    },
    {
     "data": {
      "text/html": [
       "<pre>+---------+--------------+-------------------+-----------------------+-------------+</pre>"
      ],
      "text/plain": [
       "+---------+--------------+-------------------+-----------------------+-------------+"
      ]
     },
     "metadata": {},
     "output_type": "display_data"
    },
    {
     "data": {
      "text/html": [
       "<pre>Optimization Complete: Maximum number of passes through the data reached.</pre>"
      ],
      "text/plain": [
       "Optimization Complete: Maximum number of passes through the data reached."
      ]
     },
     "metadata": {},
     "output_type": "display_data"
    },
    {
     "data": {
      "text/html": [
       "<pre>Computing final objective value and training RMSE.</pre>"
      ],
      "text/plain": [
       "Computing final objective value and training RMSE."
      ]
     },
     "metadata": {},
     "output_type": "display_data"
    },
    {
     "data": {
      "text/html": [
       "<pre>       Final objective value: 0.197109</pre>"
      ],
      "text/plain": [
       "       Final objective value: 0.197109"
      ]
     },
     "metadata": {},
     "output_type": "display_data"
    },
    {
     "data": {
      "text/html": [
       "<pre>       Final training RMSE: 0.113279</pre>"
      ],
      "text/plain": [
       "       Final training RMSE: 0.113279"
      ]
     },
     "metadata": {},
     "output_type": "display_data"
    }
   ],
   "source": [
    "#matrix factorisation approach for recommensation system for different regularisation values\n",
    "regularization_vals = [0.001, 0.0001, 0.00001, 0.000001]\n",
    "models = [gl.factorization_recommender.create(train_set, 'reviewerID', 'asin', 'overall',max_iterations=50, num_factors=5, regularization=r) for r in regularization_vals]"
   ]
  },
  {
   "cell_type": "code",
   "execution_count": 18,
   "metadata": {
    "collapsed": false
   },
   "outputs": [
    {
     "name": "stdout",
     "output_type": "stream",
     "text": [
      "[1.354132037939955, 1.1158723669273718, 0.5514901538693591, 0.10278599769039133]\n",
      "[1.4095286296174196, 1.3801039799118227, 1.473691746919041, 1.5772064738895233]\n"
     ]
    }
   ],
   "source": [
    "# Save the train and test RMSE, for each model\n",
    "(rmse_train, rmse_test) = ([], [])\n",
    "for m in models:\n",
    "    rmse_train.append(m['training_rmse'])\n",
    "    rmse_test.append(gl.evaluation.rmse(test_set['overall'], m.predict(test_set)))\n",
    "\n",
    "print rmse_train\n",
    "print rmse_test"
   ]
  },
  {
   "cell_type": "code",
   "execution_count": 20,
   "metadata": {
    "collapsed": false
   },
   "outputs": [
    {
     "data": {
      "text/plain": [
       "<matplotlib.legend.Legend at 0x13b27df10>"
      ]
     },
     "execution_count": 20,
     "metadata": {},
     "output_type": "execute_result"
    },
    {
     "data": {
      "image/png": "[encoded data removed]",
      "text/plain": [
       "<matplotlib.figure.Figure at 0x11d873450>"
      ]
     },
     "metadata": {},
     "output_type": "display_data"
    }
   ],
   "source": [
    "#plot to see the suitable regularisation for our data\n",
    "(fig, ax) = plt.subplots(figsize=(10, 8))\n",
    "[p1, p2, p3] = ax.semilogx(regularization_vals, rmse_train, \n",
    "                           regularization_vals, rmse_test, \n",
    "                           regularization_vals, len(regularization_vals) * [baseline_rmse]\n",
    "                           )\n",
    "ax.set_ylim([-5, 5])\n",
    "ax.set_xlim([0.00001, 0.001])\n",
    "ax.set_xlabel('Regularization', fontsize=20)\n",
    "ax.set_ylabel('RMSE', fontsize=20)\n",
    "ax.legend([p1, p2, p3], [\"Train\", \"Test\", \"Baseline\"])"
   ]
  },
  {
   "cell_type": "code",
   "execution_count": 21,
   "metadata": {
    "collapsed": false,
    "scrolled": false
   },
   "outputs": [
    {
     "data": {
      "text/html": [
       "<pre>Recsys training: model = factorization_recommender</pre>"
      ],
      "text/plain": [
       "Recsys training: model = factorization_recommender"
      ]
     },
     "metadata": {},
     "output_type": "display_data"
    },
    {
     "data": {
      "text/html": [
       "<pre>Preparing data set.</pre>"
      ],
      "text/plain": [
       "Preparing data set."
      ]
     },
     "metadata": {},
     "output_type": "display_data"
    },
    {
     "data": {
      "text/html": [
       "<pre>    Data has 1000000 observations with 509678 users and 171185 items.</pre>"
      ],
      "text/plain": [
       "    Data has 1000000 observations with 509678 users and 171185 items."
      ]
     },
     "metadata": {},
     "output_type": "display_data"
    },
    {
     "data": {
      "text/html": [
       "<pre>    Data prepared in: 2.23058s</pre>"
      ],
      "text/plain": [
       "    Data prepared in: 2.23058s"
      ]
     },
     "metadata": {},
     "output_type": "display_data"
    },
    {
     "data": {
      "text/html": [
       "<pre>Training factorization_recommender for recommendations.</pre>"
      ],
      "text/plain": [
       "Training factorization_recommender for recommendations."
      ]
     },
     "metadata": {},
     "output_type": "display_data"
    },
    {
     "data": {
      "text/html": [
       "<pre>+--------------------------------+--------------------------------------------------+----------+</pre>"
      ],
      "text/plain": [
       "+--------------------------------+--------------------------------------------------+----------+"
      ]
     },
     "metadata": {},
     "output_type": "display_data"
    },
    {
     "data": {
      "text/html": [
       "<pre>| Parameter                      | Description                                      | Value    |</pre>"
      ],
      "text/plain": [
       "| Parameter                      | Description                                      | Value    |"
      ]
     },
     "metadata": {},
     "output_type": "display_data"
    },
    {
     "data": {
      "text/html": [
       "<pre>+--------------------------------+--------------------------------------------------+----------+</pre>"
      ],
      "text/plain": [
       "+--------------------------------+--------------------------------------------------+----------+"
      ]
     },
     "metadata": {},
     "output_type": "display_data"
    },
    {
     "data": {
      "text/html": [
       "<pre>| num_factors                    | Factor Dimension                                 | 5        |</pre>"
      ],
      "text/plain": [
       "| num_factors                    | Factor Dimension                                 | 5        |"
      ]
     },
     "metadata": {},
     "output_type": "display_data"
    },
    {
     "data": {
      "text/html": [
       "<pre>| regularization                 | L2 Regularization on Factors                     | 0.0001   |</pre>"
      ],
      "text/plain": [
       "| regularization                 | L2 Regularization on Factors                     | 0.0001   |"
      ]
     },
     "metadata": {},
     "output_type": "display_data"
    },
    {
     "data": {
      "text/html": [
       "<pre>| solver                         | Solver used for training                         | sgd      |</pre>"
      ],
      "text/plain": [
       "| solver                         | Solver used for training                         | sgd      |"
      ]
     },
     "metadata": {},
     "output_type": "display_data"
    },
    {
     "data": {
      "text/html": [
       "<pre>| linear_regularization          | L2 Regularization on Linear Coefficients         | 1e-10    |</pre>"
      ],
      "text/plain": [
       "| linear_regularization          | L2 Regularization on Linear Coefficients         | 1e-10    |"
      ]
     },
     "metadata": {},
     "output_type": "display_data"
    },
    {
     "data": {
      "text/html": [
       "<pre>| max_iterations                 | Maximum Number of Iterations                     | 50       |</pre>"
      ],
      "text/plain": [
       "| max_iterations                 | Maximum Number of Iterations                     | 50       |"
      ]
     },
     "metadata": {},
     "output_type": "display_data"
    },
    {
     "data": {
      "text/html": [
       "<pre>+--------------------------------+--------------------------------------------------+----------+</pre>"
      ],
      "text/plain": [
       "+--------------------------------+--------------------------------------------------+----------+"
      ]
     },
     "metadata": {},
     "output_type": "display_data"
    },
    {
     "data": {
      "text/html": [
       "<pre>  Optimizing model using SGD; tuning step size.</pre>"
      ],
      "text/plain": [
       "  Optimizing model using SGD; tuning step size."
      ]
     },
     "metadata": {},
     "output_type": "display_data"
    },
    {
     "data": {
      "text/html": [
       "<pre>  Using 125000 / 1000000 points for tuning the step size.</pre>"
      ],
      "text/plain": [
       "  Using 125000 / 1000000 points for tuning the step size."
      ]
     },
     "metadata": {},
     "output_type": "display_data"
    },
    {
     "data": {
      "text/html": [
       "<pre>+---------+-------------------+------------------------------------------+</pre>"
      ],
      "text/plain": [
       "+---------+-------------------+------------------------------------------+"
      ]
     },
     "metadata": {},
     "output_type": "display_data"
    },
    {
     "data": {
      "text/html": [
       "<pre>| Attempt | Initial Step Size | Estimated Objective Value                |</pre>"
      ],
      "text/plain": [
       "| Attempt | Initial Step Size | Estimated Objective Value                |"
      ]
     },
     "metadata": {},
     "output_type": "display_data"
    },
    {
     "data": {
      "text/html": [
       "<pre>+---------+-------------------+------------------------------------------+</pre>"
      ],
      "text/plain": [
       "+---------+-------------------+------------------------------------------+"
      ]
     },
     "metadata": {},
     "output_type": "display_data"
    },
    {
     "data": {
      "text/html": [
       "<pre>| 0       | 0.7368            | 1.44949                                  |</pre>"
      ],
      "text/plain": [
       "| 0       | 0.7368            | 1.44949                                  |"
      ]
     },
     "metadata": {},
     "output_type": "display_data"
    },
    {
     "data": {
      "text/html": [
       "<pre>| 1       | 0.3684            | 0.818491                                 |</pre>"
      ],
      "text/plain": [
       "| 1       | 0.3684            | 0.818491                                 |"
      ]
     },
     "metadata": {},
     "output_type": "display_data"
    },
    {
     "data": {
      "text/html": [
       "<pre>| 2       | 0.1842            | 0.498224                                 |</pre>"
      ],
      "text/plain": [
       "| 2       | 0.1842            | 0.498224                                 |"
      ]
     },
     "metadata": {},
     "output_type": "display_data"
    },
    {
     "data": {
      "text/html": [
       "<pre>| 3       | 0.0921            | 0.891046                                 |</pre>"
      ],
      "text/plain": [
       "| 3       | 0.0921            | 0.891046                                 |"
      ]
     },
     "metadata": {},
     "output_type": "display_data"
    },
    {
     "data": {
      "text/html": [
       "<pre>| 4       | 0.04605           | 1.26608                                  |</pre>"
      ],
      "text/plain": [
       "| 4       | 0.04605           | 1.26608                                  |"
      ]
     },
     "metadata": {},
     "output_type": "display_data"
    },
    {
     "data": {
      "text/html": [
       "<pre>+---------+-------------------+------------------------------------------+</pre>"
      ],
      "text/plain": [
       "+---------+-------------------+------------------------------------------+"
      ]
     },
     "metadata": {},
     "output_type": "display_data"
    },
    {
     "data": {
      "text/html": [
       "<pre>| Final   | 0.1842            | 0.498224                                 |</pre>"
      ],
      "text/plain": [
       "| Final   | 0.1842            | 0.498224                                 |"
      ]
     },
     "metadata": {},
     "output_type": "display_data"
    },
    {
     "data": {
      "text/html": [
       "<pre>+---------+-------------------+------------------------------------------+</pre>"
      ],
      "text/plain": [
       "+---------+-------------------+------------------------------------------+"
      ]
     },
     "metadata": {},
     "output_type": "display_data"
    },
    {
     "data": {
      "text/html": [
       "<pre>Starting Optimization.</pre>"
      ],
      "text/plain": [
       "Starting Optimization."
      ]
     },
     "metadata": {},
     "output_type": "display_data"
    },
    {
     "data": {
      "text/html": [
       "<pre>+---------+--------------+-------------------+-----------------------+-------------+</pre>"
      ],
      "text/plain": [
       "+---------+--------------+-------------------+-----------------------+-------------+"
      ]
     },
     "metadata": {},
     "output_type": "display_data"
    },
    {
     "data": {
      "text/html": [
       "<pre>| Iter.   | Elapsed Time | Approx. Objective | Approx. Training RMSE | Step Size   |</pre>"
      ],
      "text/plain": [
       "| Iter.   | Elapsed Time | Approx. Objective | Approx. Training RMSE | Step Size   |"
      ]
     },
     "metadata": {},
     "output_type": "display_data"
    },
    {
     "data": {
      "text/html": [
       "<pre>+---------+--------------+-------------------+-----------------------+-------------+</pre>"
      ],
      "text/plain": [
       "+---------+--------------+-------------------+-----------------------+-------------+"
      ]
     },
     "metadata": {},
     "output_type": "display_data"
    },
    {
     "data": {
      "text/html": [
       "<pre>| Initial | 72us         | 2.11136           | 1.45305               |             |</pre>"
      ],
      "text/plain": [
       "| Initial | 72us         | 2.11136           | 1.45305               |             |"
      ]
     },
     "metadata": {},
     "output_type": "display_data"
    },
    {
     "data": {
      "text/html": [
       "<pre>+---------+--------------+-------------------+-----------------------+-------------+</pre>"
      ],
      "text/plain": [
       "+---------+--------------+-------------------+-----------------------+-------------+"
      ]
     },
     "metadata": {},
     "output_type": "display_data"
    },
    {
     "data": {
      "text/html": [
       "<pre>| 1       | 469.686ms    | DIVERGED          | DIVERGED              | 0.1842      |</pre>"
      ],
      "text/plain": [
       "| 1       | 469.686ms    | DIVERGED          | DIVERGED              | 0.1842      |"
      ]
     },
     "metadata": {},
     "output_type": "display_data"
    },
    {
     "data": {
      "text/html": [
       "<pre>| RESET   | 674.286ms    | 2.11136           | 1.45305               |             |</pre>"
      ],
      "text/plain": [
       "| RESET   | 674.286ms    | 2.11136           | 1.45305               |             |"
      ]
     },
     "metadata": {},
     "output_type": "display_data"
    },
    {
     "data": {
      "text/html": [
       "<pre>| 1       | 1.13s        | DIVERGED          | DIVERGED              | 0.0921      |</pre>"
      ],
      "text/plain": [
       "| 1       | 1.13s        | DIVERGED          | DIVERGED              | 0.0921      |"
      ]
     },
     "metadata": {},
     "output_type": "display_data"
    },
    {
     "data": {
      "text/html": [
       "<pre>| RESET   | 1.35s        | 2.11136           | 1.45305               |             |</pre>"
      ],
      "text/plain": [
       "| RESET   | 1.35s        | 2.11136           | 1.45305               |             |"
      ]
     },
     "metadata": {},
     "output_type": "display_data"
    },
    {
     "data": {
      "text/html": [
       "<pre>| 1       | 1.80s        | DIVERGED          | DIVERGED              | 0.04605     |</pre>"
      ],
      "text/plain": [
       "| 1       | 1.80s        | DIVERGED          | DIVERGED              | 0.04605     |"
      ]
     },
     "metadata": {},
     "output_type": "display_data"
    },
    {
     "data": {
      "text/html": [
       "<pre>| RESET   | 2.00s        | 2.11135           | 1.45305               |             |</pre>"
      ],
      "text/plain": [
       "| RESET   | 2.00s        | 2.11135           | 1.45305               |             |"
      ]
     },
     "metadata": {},
     "output_type": "display_data"
    },
    {
     "data": {
      "text/html": [
       "<pre>| 1       | 2.41s        | 1.9903            | 1.41075               | 0.023025    |</pre>"
      ],
      "text/plain": [
       "| 1       | 2.41s        | 1.9903            | 1.41075               | 0.023025    |"
      ]
     },
     "metadata": {},
     "output_type": "display_data"
    },
    {
     "data": {
      "text/html": [
       "<pre>| 2       | 2.66s        | 1.66342           | 1.28972               | 0.00697199  |</pre>"
      ],
      "text/plain": [
       "| 2       | 2.66s        | 1.66342           | 1.28972               | 0.00697199  |"
      ]
     },
     "metadata": {},
     "output_type": "display_data"
    },
    {
     "data": {
      "text/html": [
       "<pre>| 3       | 2.93s        | 1.58849           | 1.26035               | 0.00410794  |</pre>"
      ],
      "text/plain": [
       "| 3       | 2.93s        | 1.58849           | 1.26035               | 0.00410794  |"
      ]
     },
     "metadata": {},
     "output_type": "display_data"
    },
    {
     "data": {
      "text/html": [
       "<pre>| 4       | 3.21s        | 1.54918           | 1.24466               | 0.00291179  |</pre>"
      ],
      "text/plain": [
       "| 4       | 3.21s        | 1.54918           | 1.24466               | 0.00291179  |"
      ]
     },
     "metadata": {},
     "output_type": "display_data"
    },
    {
     "data": {
      "text/html": [
       "<pre>| 5       | 3.46s        | 1.52301           | 1.2341                | 0.00225514  |</pre>"
      ],
      "text/plain": [
       "| 5       | 3.46s        | 1.52301           | 1.2341                | 0.00225514  |"
      ]
     },
     "metadata": {},
     "output_type": "display_data"
    },
    {
     "data": {
      "text/html": [
       "<pre>| 6       | 3.87s        | 1.50374           | 1.22627               | 0.00184016  |</pre>"
      ],
      "text/plain": [
       "| 6       | 3.87s        | 1.50374           | 1.22627               | 0.00184016  |"
      ]
     },
     "metadata": {},
     "output_type": "display_data"
    },
    {
     "data": {
      "text/html": [
       "<pre>| 7       | 4.29s        | 1.48855           | 1.22006               | 0.00155417  |</pre>"
      ],
      "text/plain": [
       "| 7       | 4.29s        | 1.48855           | 1.22006               | 0.00155417  |"
      ]
     },
     "metadata": {},
     "output_type": "display_data"
    },
    {
     "data": {
      "text/html": [
       "<pre>| 11      | 5.25s        | 1.44849           | 1.20353               | 0.000958377 |</pre>"
      ],
      "text/plain": [
       "| 11      | 5.25s        | 1.44849           | 1.20353               | 0.000958377 |"
      ]
     },
     "metadata": {},
     "output_type": "display_data"
    },
    {
     "data": {
      "text/html": [
       "<pre>| 12      | 5.66s        | 1.44138           | 1.20057               | 0.000874561 |</pre>"
      ],
      "text/plain": [
       "| 12      | 5.66s        | 1.44138           | 1.20057               | 0.000874561 |"
      ]
     },
     "metadata": {},
     "output_type": "display_data"
    },
    {
     "data": {
      "text/html": [
       "<pre>| 17      | 7.01s        | 1.41447           | 1.18931               | 0.000608483 |</pre>"
      ],
      "text/plain": [
       "| 17      | 7.01s        | 1.41447           | 1.18931               | 0.000608483 |"
      ]
     },
     "metadata": {},
     "output_type": "display_data"
    },
    {
     "data": {
      "text/html": [
       "<pre>| 22      | 8.32s        | 1.39587           | 1.18147               | 0.000466542 |</pre>"
      ],
      "text/plain": [
       "| 22      | 8.32s        | 1.39587           | 1.18147               | 0.000466542 |"
      ]
     },
     "metadata": {},
     "output_type": "display_data"
    },
    {
     "data": {
      "text/html": [
       "<pre>| 27      | 9.84s        | 1.38177           | 1.17549               | 0.000378296 |</pre>"
      ],
      "text/plain": [
       "| 27      | 9.84s        | 1.38177           | 1.17549               | 0.000378296 |"
      ]
     },
     "metadata": {},
     "output_type": "display_data"
    },
    {
     "data": {
      "text/html": [
       "<pre>| 32      | 11.38s       | 1.37047           | 1.17067               | 0.000318124 |</pre>"
      ],
      "text/plain": [
       "| 32      | 11.38s       | 1.37047           | 1.17067               | 0.000318124 |"
      ]
     },
     "metadata": {},
     "output_type": "display_data"
    },
    {
     "data": {
      "text/html": [
       "<pre>| 37      | 13.08s       | 1.36107           | 1.16665               | 0.000274467 |</pre>"
      ],
      "text/plain": [
       "| 37      | 13.08s       | 1.36107           | 1.16665               | 0.000274467 |"
      ]
     },
     "metadata": {},
     "output_type": "display_data"
    },
    {
     "data": {
      "text/html": [
       "<pre>| 42      | 14.29s       | 1.35304           | 1.1632                | 0.000241346 |</pre>"
      ],
      "text/plain": [
       "| 42      | 14.29s       | 1.35304           | 1.1632                | 0.000241346 |"
      ]
     },
     "metadata": {},
     "output_type": "display_data"
    },
    {
     "data": {
      "text/html": [
       "<pre>| 47      | 15.43s       | 1.34606           | 1.1602                | 0.000215358 |</pre>"
      ],
      "text/plain": [
       "| 47      | 15.43s       | 1.34606           | 1.1602                | 0.000215358 |"
      ]
     },
     "metadata": {},
     "output_type": "display_data"
    },
    {
     "data": {
      "text/html": [
       "<pre>+---------+--------------+-------------------+-----------------------+-------------+</pre>"
      ],
      "text/plain": [
       "+---------+--------------+-------------------+-----------------------+-------------+"
      ]
     },
     "metadata": {},
     "output_type": "display_data"
    },
    {
     "data": {
      "text/html": [
       "<pre>Optimization Complete: Maximum number of passes through the data reached.</pre>"
      ],
      "text/plain": [
       "Optimization Complete: Maximum number of passes through the data reached."
      ]
     },
     "metadata": {},
     "output_type": "display_data"
    },
    {
     "data": {
      "text/html": [
       "<pre>Computing final objective value and training RMSE.</pre>"
      ],
      "text/plain": [
       "Computing final objective value and training RMSE."
      ]
     },
     "metadata": {},
     "output_type": "display_data"
    },
    {
     "data": {
      "text/html": [
       "<pre>       Final objective value: 1.34058</pre>"
      ],
      "text/plain": [
       "       Final objective value: 1.34058"
      ]
     },
     "metadata": {},
     "output_type": "display_data"
    },
    {
     "data": {
      "text/html": [
       "<pre>       Final training RMSE: 1.15783</pre>"
      ],
      "text/plain": [
       "       Final training RMSE: 1.15783"
      ]
     },
     "metadata": {},
     "output_type": "display_data"
    }
   ],
   "source": [
    "#recommendation model with regularisation factor=0.0001\n",
    "models1 = gl.factorization_recommender.create(sf, 'reviewerID', 'asin', 'overall',max_iterations=50, num_factors=5, regularization=0.0001)"
   ]
  },
  {
   "cell_type": "code",
   "execution_count": 27,
   "metadata": {
    "collapsed": false
   },
   "outputs": [
    {
     "name": "stdout",
     "output_type": "stream",
     "text": [
      "+-------------------------------+-------------------------------+---------------+\n",
      "|           reviewerID          |              asin             |   prediction  |\n",
      "+-------------------------------+-------------------------------+---------------+\n",
      "| f0ce42c52f549e542b28cb6351... | 6116d31a297ceb0f8f69f6f71e... | 3.75042450036 |\n",
      "| b3deb19947aca2ba8b1603d68f... | fddffbdc4069e184e0fa1192d2... |  2.7580649292 |\n",
      "| f14792f1e384c11d8b7e6888c3... | 13132c29b5bca0c7d8521c5717... | 3.67765810694 |\n",
      "| 9daf8337517fcebd589d5ff236... | 13132c29b5bca0c7d8521c5717... | 3.45295241083 |\n",
      "| 0a770f7985c27615807712f18c... | 13132c29b5bca0c7d8521c5717... | 3.45295241083 |\n",
      "| 65933ec19897c04d509baaefec... | 13132c29b5bca0c7d8521c5717... | 3.26720952596 |\n",
      "| c2b1afb33461106241a366abd9... | 13132c29b5bca0c7d8521c5717... | 3.78166755642 |\n",
      "| bf8ce25785dd389d79e9cf7034... | 13132c29b5bca0c7d8521c5717... | 3.69939292575 |\n",
      "| 875e7c0bc62bf6aabe06f0dad9... | 362455b1ea124d0f5739a95182... | 3.11729804221 |\n",
      "| 2593651d510e1d7f1a39eae992... | 362455b1ea124d0f5739a95182... | 3.14810029025 |\n",
      "+-------------------------------+-------------------------------+---------------+\n",
      "[100000 rows x 3 columns]\n",
      "Note: Only the head of the SFrame is printed.\n",
      "You can use print_rows(num_rows=m, num_columns=n) to print more rows and columns.\n",
      "100000\n"
     ]
    }
   ],
   "source": [
    "#Using the model to predict the rating\n",
    "sf_test['prediction']=models1.predict(sf_test)\n",
    "print sf_test\n",
    "print len(sf_test)"
   ]
  },
  {
   "cell_type": "code",
   "execution_count": 28,
   "metadata": {
    "collapsed": false
   },
   "outputs": [
    {
     "name": "stdout",
     "output_type": "stream",
     "text": [
      "                                              reviewerID  \\\n",
      "0      f0ce42c52f549e542b28cb6351b93814be2c571809bca8...   \n",
      "1      b3deb19947aca2ba8b1603d68fd58e381b5d7d22895147...   \n",
      "2      f14792f1e384c11d8b7e6888c38f7c481853c2b4025c8a...   \n",
      "3      9daf8337517fcebd589d5ff2366ac45a24a5b6444f991d...   \n",
      "4      0a770f7985c27615807712f18c410cce9207f4d5e7800c...   \n",
      "5      65933ec19897c04d509baaefecf025c23012ace8d2b404...   \n",
      "6      c2b1afb33461106241a366abd95f9d2a795b7e5f76f4d9...   \n",
      "7      bf8ce25785dd389d79e9cf7034f89bb222cd20a256be4f...   \n",
      "8      875e7c0bc62bf6aabe06f0dad98e334aca5d15d57f0954...   \n",
      "9      2593651d510e1d7f1a39eae9925a0c16283d42a75316be...   \n",
      "10     6c70b33487f267ad731254e79d93313baf9cc99d3eb61d...   \n",
      "11     4f85a79343b74b15927dd9be80f8d3eb77b85b00944030...   \n",
      "12     63b7eab98fa43e6be723b28ca682ed738a0913154a9495...   \n",
      "13     e6caa463ed1cc15202c9abb37e48030675d2655d684035...   \n",
      "14     da819c4c97f2f8247c9a1eaaaa74456804032d9dc27569...   \n",
      "15     cbd601ac4ff3c7e410db97a324c3c8e442a068253801ba...   \n",
      "16     c3da4a821061f782a821164922c6d5de0cf209dc596150...   \n",
      "17     485ac8b032d25d8dfd38f9f409ada8baeafa3117cf48df...   \n",
      "18     9ec24074c25dc950d483543753b8634fc573d3a8e1727c...   \n",
      "19     c2abebdcd9a2d73868469f105e45490e67ead2c0d56a4f...   \n",
      "20     2890ea436b3cc746a87630507fdfc0db5e5f7bafc8e031...   \n",
      "21     ce786709d77e1850e6de2d08c252c92028329802319b47...   \n",
      "22     ddec71340df34bc75d45080ccbc0aafd2f01e7a52d6e01...   \n",
      "23     de1bb6b3ee43ddeb97edbcf1e405dcc438ebc15cf0805e...   \n",
      "24     85f7fc0333b5a33cf5e03d0c02cb525e9024a4b2571379...   \n",
      "25     a33ae32691b99f0d7745d9ec262788dc8c089a1b78e28f...   \n",
      "26     ebc3cbbdfa48ec0ff1d94981ef5bfacea535e9e807ddd9...   \n",
      "27     09a0eb7771977597970ca3c642b94d36d5dad1c6d699a7...   \n",
      "28     d1a9ef1c1eef67105b894629e0eeaf562f21bc90f7c82b...   \n",
      "29     4584174d6d8895d0ca2062ff4f6a14a6241fa6212cd5e0...   \n",
      "...                                                  ...   \n",
      "99970  533601e7638603d83fcbca23814644eb8d027e7f464db7...   \n",
      "99971  2d8875cf1a027eb9c8e07dd330395a1330fbb5097b3879...   \n",
      "99972  3881310f6df25cf602a345a23c07fec741558148d5e697...   \n",
      "99973  ab7b49b412dfaed5e87de69ffaedb5246c02adbc97d9ef...   \n",
      "99974  5e02e1a515b7d2a392e35f81b5120e4aa8b1795eb6f2f8...   \n",
      "99975  847a4a7d2dffad8c67b21fdf8afdb6b49cb942c6c8a9a1...   \n",
      "99976  8d6ace32e4aad38cbbb10e7ae8a04f049e441fb04e8821...   \n",
      "99977  950ff17199dc2c12343fe7c41ab3421209438cfa9d9492...   \n",
      "99978  acd476475f0763682ad74a0ce61e710b1b46b9452f22af...   \n",
      "99979  57317153bd3b1fc459b07f9c75fd5c77e93f1e9e3ace9f...   \n",
      "99980  f2e47315c8c00bd4ecd9fb764fed19948ddc6f31abd833...   \n",
      "99981  f3282c749fe4d9ce6c51bf023bc98b037f4c0b7de0ee93...   \n",
      "99982  1958442a2fa5f337300afba5e70180144010677509fffa...   \n",
      "99983  4ee0b03148cf8d5b80214dcf72eabb934ba1535732b7bd...   \n",
      "99984  75a5e4c82371726ef5ea9046d25676b84bb688857acc63...   \n",
      "99985  8e13bdc80aa7ff50ea56951a6303178b41d0e79dcd148d...   \n",
      "99986  8c2ab231eb72804e65bffe4c6fc32a4bba73221327e3c6...   \n",
      "99987  4aa036a3398cfa8c183e7cb77019a0e78665a587e480a7...   \n",
      "99988  a757f421a3ecb255b12b4ef34fb4bcd65911b4bd132d5c...   \n",
      "99989  16c08002876c2ccf8f6649435c933e89cae81e1bc141fb...   \n",
      "99990  5b434fadc272df1d623243d71673dc7cfcf5c6104c9da8...   \n",
      "99991  cda86f3ec0d88f3b52a9acb28c60198fa3b3567ee50834...   \n",
      "99992  d0d30073742239dd01e3c5f1f6275a625050a8aa195920...   \n",
      "99993  e489300e5a388a6f47031ac874167f935f2fbef1e37084...   \n",
      "99994  f6313271f2d34fa7c66356ab7c1649f6f82888b4282615...   \n",
      "99995  c08772e0537354d06a24c33aeadc793542d479cf6e0e8d...   \n",
      "99996  58fd75d09f8a8beced33cd03c1ce2e6f9705ebfd200587...   \n",
      "99997  865c6224090e6777ea92e2f0673a698311e9921ca7aff8...   \n",
      "99998  14890e9f55610d4b46e256146afa1d98c5dac15ddf28cb...   \n",
      "99999  bc553853781657aca1c11097d8ed09eac311553e8fe0b7...   \n",
      "\n",
      "                                                    asin  prediction  \n",
      "0      6116d31a297ceb0f8f69f6f71e924e47136fc70c6f5bf7...    3.750425  \n",
      "1      fddffbdc4069e184e0fa1192d2b7c4f31c7592ecd5239a...    2.758065  \n",
      "2      13132c29b5bca0c7d8521c57179b9b73c605989314477d...    3.677658  \n",
      "3      13132c29b5bca0c7d8521c57179b9b73c605989314477d...    3.452952  \n",
      "4      13132c29b5bca0c7d8521c57179b9b73c605989314477d...    3.452952  \n",
      "5      13132c29b5bca0c7d8521c57179b9b73c605989314477d...    3.267210  \n",
      "6      13132c29b5bca0c7d8521c57179b9b73c605989314477d...    3.781668  \n",
      "7      13132c29b5bca0c7d8521c57179b9b73c605989314477d...    3.699393  \n",
      "8      362455b1ea124d0f5739a951824ab933ef39197c835391...    3.117298  \n",
      "9      362455b1ea124d0f5739a951824ab933ef39197c835391...    3.148100  \n",
      "10     362455b1ea124d0f5739a951824ab933ef39197c835391...    3.274464  \n",
      "11     362455b1ea124d0f5739a951824ab933ef39197c835391...    3.105075  \n",
      "12     2b00d8f92f7ff43c52beb472b4d561a1bcf232e757ef36...    3.504910  \n",
      "13     2b00d8f92f7ff43c52beb472b4d561a1bcf232e757ef36...    4.266702  \n",
      "14     2b00d8f92f7ff43c52beb472b4d561a1bcf232e757ef36...    3.876807  \n",
      "15     2b00d8f92f7ff43c52beb472b4d561a1bcf232e757ef36...    4.538231  \n",
      "16     28f9bc49b7e55f784651d38f0912f235e2464d81d16ad5...    3.857044  \n",
      "17     e6020302c9f67b78973a80beaf7148bb525a2166712a01...    3.615823  \n",
      "18     e6020302c9f67b78973a80beaf7148bb525a2166712a01...    3.615823  \n",
      "19     e6020302c9f67b78973a80beaf7148bb525a2166712a01...    3.332158  \n",
      "20     e6020302c9f67b78973a80beaf7148bb525a2166712a01...    3.567854  \n",
      "21     e6020302c9f67b78973a80beaf7148bb525a2166712a01...    3.924514  \n",
      "22     e6020302c9f67b78973a80beaf7148bb525a2166712a01...    3.615823  \n",
      "23     e6020302c9f67b78973a80beaf7148bb525a2166712a01...    3.615823  \n",
      "24     d1966cb77c93206e3a3814ab4eaf4c783422c7d5e60dce...    3.398942  \n",
      "25     d1966cb77c93206e3a3814ab4eaf4c783422c7d5e60dce...    3.753560  \n",
      "26     d1966cb77c93206e3a3814ab4eaf4c783422c7d5e60dce...    3.841839  \n",
      "27     d1966cb77c93206e3a3814ab4eaf4c783422c7d5e60dce...    3.731122  \n",
      "28     d1966cb77c93206e3a3814ab4eaf4c783422c7d5e60dce...    2.886290  \n",
      "29     d1966cb77c93206e3a3814ab4eaf4c783422c7d5e60dce...    3.666983  \n",
      "...                                                  ...         ...  \n",
      "99970  9c0ef5c6cac888e9f4e5b2298906b896b93f74ad10a291...    4.478011  \n",
      "99971  9c0ef5c6cac888e9f4e5b2298906b896b93f74ad10a291...    4.478011  \n",
      "99972  c0d98a40910e7b13e6aabcaedf1cdab929da288318a96b...    3.696604  \n",
      "99973  c0d98a40910e7b13e6aabcaedf1cdab929da288318a96b...    3.819094  \n",
      "99974  0cdd4067e143920b956036015886affd11ea5ce74c5394...    3.607926  \n",
      "99975  10a0b7153d0ae21f18e414710c2f44515c6b7e5a14ef46...    3.873481  \n",
      "99976  10a0b7153d0ae21f18e414710c2f44515c6b7e5a14ef46...    3.289265  \n",
      "99977  10a0b7153d0ae21f18e414710c2f44515c6b7e5a14ef46...    3.873481  \n",
      "99978  10a0b7153d0ae21f18e414710c2f44515c6b7e5a14ef46...    3.873481  \n",
      "99979  10a0b7153d0ae21f18e414710c2f44515c6b7e5a14ef46...    3.814700  \n",
      "99980  10a0b7153d0ae21f18e414710c2f44515c6b7e5a14ef46...    3.873481  \n",
      "99981  2c3acdf5dd1ea421653330e326d0357a0294c99f6274a3...    4.522879  \n",
      "99982  2c3acdf5dd1ea421653330e326d0357a0294c99f6274a3...    4.398552  \n",
      "99983  2c3acdf5dd1ea421653330e326d0357a0294c99f6274a3...    4.077436  \n",
      "99984  2c3acdf5dd1ea421653330e326d0357a0294c99f6274a3...    4.398552  \n",
      "99985  2c3acdf5dd1ea421653330e326d0357a0294c99f6274a3...    4.398552  \n",
      "99986  2c3acdf5dd1ea421653330e326d0357a0294c99f6274a3...    4.811073  \n",
      "99987  2c3acdf5dd1ea421653330e326d0357a0294c99f6274a3...    4.701538  \n",
      "99988  2c3acdf5dd1ea421653330e326d0357a0294c99f6274a3...    4.540207  \n",
      "99989  87f39f678b0b9e10b5ae80a854fb28adde965073cfff39...    4.205383  \n",
      "99990  2229ade982adb7f175bcbc53200a9f4614a72813a57d49...    4.114386  \n",
      "99991  2229ade982adb7f175bcbc53200a9f4614a72813a57d49...    4.126581  \n",
      "99992  a1a83b0f4bd843e7919decc595f6ed88a1b1617fd8cc05...    4.242363  \n",
      "99993  99fd1a91d72ad630e92452713c08a60c792980f1c2cf45...    4.455015  \n",
      "99994  abf4a5f4d068ed967febc6bd11d07e956eb497eb98d00f...    3.596939  \n",
      "99995  ef2ab686fdd4b06c30a422d236deabfcb3c00a93e48273...    4.171897  \n",
      "99996  ef2ab686fdd4b06c30a422d236deabfcb3c00a93e48273...    4.302968  \n",
      "99997  ef2ab686fdd4b06c30a422d236deabfcb3c00a93e48273...    4.269248  \n",
      "99998  7fa8e5b414dd3d9bc2a93570bed38606c881d5a7fdcf14...    3.940798  \n",
      "99999  6c07f4f93a75406802334ee6beae0910c7eb2aabea3cf4...    3.977882  \n",
      "\n",
      "[100000 rows x 3 columns]\n",
      "100000\n"
     ]
    }
   ],
   "source": [
    "#converting Sframe to Dataframe\n",
    "predictiondf = sf_test.to_dataframe()\n",
    "print predictiondf\n",
    "print len(predictiondf)\n",
    "#writing datafarme to csv \n",
    "predictiondf.to_csv('predictiondf.csv',index=False, cols=('reviewerID','asin','prediction'))"
   ]
  },
  {
   "cell_type": "code",
   "execution_count": 30,
   "metadata": {
    "collapsed": true
   },
   "outputs": [],
   "source": [
    "#writing the calculated prediction to txt file\n",
    "predictions = open(\"predictions_Rating_graphlab.txt\", 'w')\n",
    "k=0\n",
    "for l in open(\"pairs_Rating.txt\"):\n",
    "    if l.startswith(\"reviewerID\"):\n",
    "    #header\n",
    "        predictions.write(l)\n",
    "        continue\n",
    "    u,i = l.strip().split('-')\n",
    "    predictions.write(u + '-' + i + ',' + str(predictiondf['prediction'][k]) + '\\n')\n",
    "    k+=1\n",
    "predictions.close()\n"
   ]
  },
  {
   "cell_type": "code",
   "execution_count": 1,
   "metadata": {
    "collapsed": false
   },
   "outputs": [
    {
     "data": {
      "text/html": [
       "<link href='http://fonts.googleapis.com/css?family=EB+Garamond' rel='stylesheet' type='text/css'>\r\n",
       "<link href='http://fonts.googleapis.com/css?family=Alegreya+Sans:100,300,400,500,700,800,900,100italic,300italic,400italic,500italic,700italic,800italic,900italic' rel='stylesheet' type='text/css'>\r\n",
       "<link href='http://fonts.googleapis.com/css?family=Source+Code+Pro:300,400' rel='stylesheet' type='text/css'>\r\n",
       "<style>\r\n",
       "    @font-face {\r\n",
       "        font-family: \"Computer Modern\";\r\n",
       "        src: url('http://mirrors.ctan.org/fonts/cm-unicode/fonts/otf/cmunss.otf');\r\n",
       "    }\r\n",
       "    .code_cell {\r\n",
       "        width: 105ex !important ;\r\n",
       "        margin-bottom: 15px !important;\r\n",
       "    }\r\n",
       "    div.cell {\r\n",
       "        margin-left: auto;\r\n",
       "        margin-right: auto;\r\n",
       "        width: 70%;\r\n",
       "    }    \r\n",
       "    div.cell.selected {\r\n",
       "        border: thin rgba(171, 171, 171, 0.5) dashed;\r\n",
       "    }\r\n",
       "    h1 {\r\n",
       "        font-family: 'Alegreya Sans', sans-serif;\r\n",
       "    }\r\n",
       "    h2 {\r\n",
       "        font-family: 'EB Garamond', serif;\r\n",
       "    }\r\n",
       "    h3 {\r\n",
       "        font-family: 'EB Garamond', serif;\r\n",
       "        margin-top:12px;\r\n",
       "        margin-bottom: 3px;\r\n",
       "    }\r\n",
       "    h4 {\r\n",
       "        font-family: 'EB Garamond', serif;\r\n",
       "    }\r\n",
       "    h5 {\r\n",
       "        font-family: 'Alegreya Sans', sans-serif;\r\n",
       "    }\r\n",
       "    div.text_cell_render {\r\n",
       "        font-family: 'EB Garamond',Computer Modern, \"Helvetica Neue\", Arial, Helvetica, Geneva, sans-serif;\r\n",
       "        line-height: 145%;\r\n",
       "        font-size: 140%;\r\n",
       "    }\r\n",
       "    div.input_area {\r\n",
       "        border-color: rgba(0,0,0,0.10) !important;\r\n",
       "        background: #fafafa;\r\n",
       "    }\r\n",
       "    .CodeMirror {\r\n",
       "            font-family: \"Source Code Pro\";\r\n",
       "            font-size: 90%;\r\n",
       "    }\r\n",
       "    .prompt {\r\n",
       "        display: None;\r\n",
       "    }\r\n",
       "    .output {\r\n",
       "        padding-left: 50px;\r\n",
       "        padding-top: 5px;\r\n",
       "    }\r\n",
       "    .output_wrapper {\r\n",
       "        padding-left: 5px;\r\n",
       "        padding-top: inherit;\r\n",
       "    }\r\n",
       "    div.output_scroll {\r\n",
       "        width: inherit;\r\n",
       "    }\r\n",
       "    .inner_cell {\r\n",
       "        padding-left: 5px;\r\n",
       "    }\r\n",
       "    .text_cell_render h1 {\r\n",
       "        font-weight: 200;\r\n",
       "        font-size: 50pt;\r\n",
       "        line-height: 100%;\r\n",
       "        color:#CD2305;\r\n",
       "        margin-bottom: 0.5em;\r\n",
       "        margin-top: 0.5em;\r\n",
       "        display: block;\r\n",
       "    }\r\n",
       "    .text_cell_render h5 {\r\n",
       "        font-weight: 300;\r\n",
       "        font-size: 16pt;\r\n",
       "        color: #CD2305;\r\n",
       "        font-style: italic;\r\n",
       "        margin-bottom: .5em;\r\n",
       "        margin-top: 0.5em;\r\n",
       "        display: block;\r\n",
       "    }\r\n",
       "    .warning {\r\n",
       "        color: rgb( 240, 20, 20 )\r\n",
       "        }  \r\n",
       "</style>\r\n",
       "<script>\r\n",
       "    MathJax.Hub.Config({\r\n",
       "                        TeX: {\r\n",
       "                           extensions: [\"AMSmath.js\"]\r\n",
       "                           },\r\n",
       "                tex2jax: {\r\n",
       "                    inlineMath: [ ['$','$'], [\"\\\\(\",\"\\\\)\"] ],\r\n",
       "                    displayMath: [ ['$$','$$'], [\"\\\\[\",\"\\\\]\"] ]\r\n",
       "                },\r\n",
       "                displayAlign: 'center', // Change this to 'center' to center equations.\r\n",
       "                \"HTML-CSS\": {\r\n",
       "                    styles: {'.MathJax_Display': {\"margin\": 4}}\r\n",
       "                }\r\n",
       "        });\r\n",
       "</script>"
      ],
      "text/plain": [
       "<IPython.core.display.HTML object>"
      ]
     },
     "execution_count": 1,
     "metadata": {},
     "output_type": "execute_result"
    }
   ],
   "source": [
    "# Code for setting the style of the notebook\n",
    "from IPython.core.display import HTML\n",
    "def css_styling():\n",
    "    styles = open(\"/Users/vsanghvi007/Github/theme/custom.css\", \"r\").read()\n",
    "    return HTML(styles)\n",
    "css_styling()"
   ]
  }
 ],
 "metadata": {
  "kernelspec": {
   "display_name": "Python 2",
   "language": "python",
   "name": "python2"
  },
  "language_info": {
   "codemirror_mode": {
    "name": "ipython",
    "version": 2
   },
   "file_extension": ".py",
   "mimetype": "text/x-python",
   "name": "python",
   "nbconvert_exporter": "python",
   "pygments_lexer": "ipython2",
   "version": "2.7.11"
  }
 },
 "nbformat": 4,
 "nbformat_minor": 0
}
